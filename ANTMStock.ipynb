{
 "cells": [
  {
   "cell_type": "markdown",
   "metadata": {},
   "source": [
    "<h2 style='text-align:center'><b>Predicting ANTM Stock Prices</b></h2>\n",
    "<h5 style=\"text-align: center;\">Ikhza Syafa Muis - JCDS-0410-009</h5>\n"
   ]
  },
  {
   "cell_type": "markdown",
   "metadata": {},
   "source": [
    "## Data Understanding"
   ]
  },
  {
   "cell_type": "markdown",
   "metadata": {},
   "source": [
    "### **Import Library**"
   ]
  },
  {
   "cell_type": "code",
   "execution_count": 99,
   "metadata": {},
   "outputs": [],
   "source": [
    "import math\n",
    "import pandas as pd\n",
    "import numpy as np\n",
    "import matplotlib.pyplot as plt\n",
    "from sklearn.preprocessing import MinMaxScaler\n",
    "from sklearn.metrics import mean_squared_error, mean_absolute_error, mean_absolute_percentage_error\n",
    "from keras.models import Sequential\n",
    "from keras.layers import Dense, LSTM, Dropout\n",
    "import tensorflow as tf\n",
    "import warnings"
   ]
  },
  {
   "cell_type": "markdown",
   "metadata": {},
   "source": [
    "### **Loading Dataset**"
   ]
  },
  {
   "cell_type": "code",
   "execution_count": 100,
   "metadata": {},
   "outputs": [
    {
     "data": {
      "text/html": [
       "<div>\n",
       "<style scoped>\n",
       "    .dataframe tbody tr th:only-of-type {\n",
       "        vertical-align: middle;\n",
       "    }\n",
       "\n",
       "    .dataframe tbody tr th {\n",
       "        vertical-align: top;\n",
       "    }\n",
       "\n",
       "    .dataframe thead th {\n",
       "        text-align: right;\n",
       "    }\n",
       "</style>\n",
       "<table border=\"1\" class=\"dataframe\">\n",
       "  <thead>\n",
       "    <tr style=\"text-align: right;\">\n",
       "      <th></th>\n",
       "      <th>Date</th>\n",
       "      <th>Open</th>\n",
       "      <th>High</th>\n",
       "      <th>Low</th>\n",
       "      <th>Close</th>\n",
       "      <th>Adj Close</th>\n",
       "      <th>Volume</th>\n",
       "    </tr>\n",
       "  </thead>\n",
       "  <tbody>\n",
       "    <tr>\n",
       "      <th>0</th>\n",
       "      <td>2019-09-03</td>\n",
       "      <td>1170.0</td>\n",
       "      <td>1170.0</td>\n",
       "      <td>1105.0</td>\n",
       "      <td>1110.0</td>\n",
       "      <td>956.924927</td>\n",
       "      <td>184669600</td>\n",
       "    </tr>\n",
       "    <tr>\n",
       "      <th>1</th>\n",
       "      <td>2019-09-04</td>\n",
       "      <td>1120.0</td>\n",
       "      <td>1140.0</td>\n",
       "      <td>1090.0</td>\n",
       "      <td>1100.0</td>\n",
       "      <td>948.303894</td>\n",
       "      <td>108867300</td>\n",
       "    </tr>\n",
       "    <tr>\n",
       "      <th>2</th>\n",
       "      <td>2019-09-05</td>\n",
       "      <td>1105.0</td>\n",
       "      <td>1115.0</td>\n",
       "      <td>1085.0</td>\n",
       "      <td>1100.0</td>\n",
       "      <td>948.303894</td>\n",
       "      <td>109971500</td>\n",
       "    </tr>\n",
       "    <tr>\n",
       "      <th>3</th>\n",
       "      <td>2019-09-06</td>\n",
       "      <td>1090.0</td>\n",
       "      <td>1100.0</td>\n",
       "      <td>1075.0</td>\n",
       "      <td>1075.0</td>\n",
       "      <td>926.751587</td>\n",
       "      <td>70609200</td>\n",
       "    </tr>\n",
       "    <tr>\n",
       "      <th>4</th>\n",
       "      <td>2019-09-09</td>\n",
       "      <td>1080.0</td>\n",
       "      <td>1135.0</td>\n",
       "      <td>1080.0</td>\n",
       "      <td>1120.0</td>\n",
       "      <td>965.545898</td>\n",
       "      <td>153116500</td>\n",
       "    </tr>\n",
       "  </tbody>\n",
       "</table>\n",
       "</div>"
      ],
      "text/plain": [
       "         Date    Open    High     Low   Close   Adj Close     Volume\n",
       "0  2019-09-03  1170.0  1170.0  1105.0  1110.0  956.924927  184669600\n",
       "1  2019-09-04  1120.0  1140.0  1090.0  1100.0  948.303894  108867300\n",
       "2  2019-09-05  1105.0  1115.0  1085.0  1100.0  948.303894  109971500\n",
       "3  2019-09-06  1090.0  1100.0  1075.0  1075.0  926.751587   70609200\n",
       "4  2019-09-09  1080.0  1135.0  1080.0  1120.0  965.545898  153116500"
      ]
     },
     "execution_count": 100,
     "metadata": {},
     "output_type": "execute_result"
    }
   ],
   "source": [
    "# Load the CSV file into a DataFrame\n",
    "df = pd.read_csv('ANTM.JK.csv')\n",
    "\n",
    "# Display the DataFrame to check its contents\n",
    "df.head(5)"
   ]
  },
  {
   "cell_type": "markdown",
   "metadata": {},
   "source": [
    "### Information about the column"
   ]
  },
  {
   "cell_type": "markdown",
   "metadata": {},
   "source": [
    "| **Column Name** | **Description**                                                                                      |\n",
    "|-----------------|------------------------------------------------------------------------------------------------------|\n",
    "| **Date**        | Tanggal transaksi saham                                                                             |\n",
    "| **Open**        | Harga saham saat pembukaan pasar pada hari tersebut                                                  |\n",
    "| **High**        | Harga tertinggi yang dicapai saham selama hari perdagangan                                           |\n",
    "| **Low**         | Harga terendah yang dicapai saham selama hari perdagangan                                            |\n",
    "| **Close**       | Harga saham saat penutupan pasar pada akhir hari perdagangan                                          |\n",
    "| **Adj Close**   | Harga penutupan yang disesuaikan dengan dividen dan pemecahan saham                                     |\n",
    "| **Volume**      | Jumlah saham yang diperdagangkan pada hari tersebut                                                    |\n"
   ]
  },
  {
   "cell_type": "markdown",
   "metadata": {},
   "source": [
    "## Preprocessing Data"
   ]
  },
  {
   "cell_type": "markdown",
   "metadata": {},
   "source": [
    "#### Checking Missing Value"
   ]
  },
  {
   "cell_type": "code",
   "execution_count": 101,
   "metadata": {},
   "outputs": [
    {
     "data": {
      "text/html": [
       "<div>\n",
       "<style scoped>\n",
       "    .dataframe tbody tr th:only-of-type {\n",
       "        vertical-align: middle;\n",
       "    }\n",
       "\n",
       "    .dataframe tbody tr th {\n",
       "        vertical-align: top;\n",
       "    }\n",
       "\n",
       "    .dataframe thead th {\n",
       "        text-align: right;\n",
       "    }\n",
       "</style>\n",
       "<table border=\"1\" class=\"dataframe\">\n",
       "  <thead>\n",
       "    <tr style=\"text-align: right;\">\n",
       "      <th></th>\n",
       "      <th>dataFeatures</th>\n",
       "      <th>dataType</th>\n",
       "      <th>null</th>\n",
       "      <th>nullPct</th>\n",
       "    </tr>\n",
       "  </thead>\n",
       "  <tbody>\n",
       "    <tr>\n",
       "      <th>0</th>\n",
       "      <td>Date</td>\n",
       "      <td>object</td>\n",
       "      <td>0</td>\n",
       "      <td>0.0</td>\n",
       "    </tr>\n",
       "    <tr>\n",
       "      <th>1</th>\n",
       "      <td>Open</td>\n",
       "      <td>float64</td>\n",
       "      <td>0</td>\n",
       "      <td>0.0</td>\n",
       "    </tr>\n",
       "    <tr>\n",
       "      <th>2</th>\n",
       "      <td>High</td>\n",
       "      <td>float64</td>\n",
       "      <td>0</td>\n",
       "      <td>0.0</td>\n",
       "    </tr>\n",
       "    <tr>\n",
       "      <th>3</th>\n",
       "      <td>Low</td>\n",
       "      <td>float64</td>\n",
       "      <td>0</td>\n",
       "      <td>0.0</td>\n",
       "    </tr>\n",
       "    <tr>\n",
       "      <th>4</th>\n",
       "      <td>Close</td>\n",
       "      <td>float64</td>\n",
       "      <td>0</td>\n",
       "      <td>0.0</td>\n",
       "    </tr>\n",
       "    <tr>\n",
       "      <th>5</th>\n",
       "      <td>Adj Close</td>\n",
       "      <td>float64</td>\n",
       "      <td>0</td>\n",
       "      <td>0.0</td>\n",
       "    </tr>\n",
       "    <tr>\n",
       "      <th>6</th>\n",
       "      <td>Volume</td>\n",
       "      <td>int64</td>\n",
       "      <td>0</td>\n",
       "      <td>0.0</td>\n",
       "    </tr>\n",
       "  </tbody>\n",
       "</table>\n",
       "</div>"
      ],
      "text/plain": [
       "  dataFeatures dataType  null  nullPct\n",
       "0         Date   object     0      0.0\n",
       "1         Open  float64     0      0.0\n",
       "2         High  float64     0      0.0\n",
       "3          Low  float64     0      0.0\n",
       "4        Close  float64     0      0.0\n",
       "5    Adj Close  float64     0      0.0\n",
       "6       Volume    int64     0      0.0"
      ]
     },
     "execution_count": 101,
     "metadata": {},
     "output_type": "execute_result"
    }
   ],
   "source": [
    "# Checking for missing values\n",
    "listItem = []\n",
    "for col in df.columns :\n",
    "    listItem.append([col, df[col].dtype, df[col].isna().sum(), round((df[col].isna().sum()/len(df[col])) * 100,2)]);\n",
    "\n",
    "nulldata = pd.DataFrame(columns=['dataFeatures', 'dataType', 'null', 'nullPct'],\n",
    "                     data=listItem)\n",
    "nulldata"
   ]
  },
  {
   "cell_type": "markdown",
   "metadata": {},
   "source": [
    "Kumpulan data dalam kondisi sangat baik tanpa ada nilai yang hilang di semua kolom. Setiap fitur memiliki data lengkap, yang ideal untuk analisis dan pemodelan."
   ]
  },
  {
   "cell_type": "markdown",
   "metadata": {},
   "source": [
    "#### Mengambil kolom 'Date' dan 'Close' dari dataset"
   ]
  },
  {
   "cell_type": "code",
   "execution_count": 102,
   "metadata": {},
   "outputs": [
    {
     "data": {
      "text/html": [
       "<div>\n",
       "<style scoped>\n",
       "    .dataframe tbody tr th:only-of-type {\n",
       "        vertical-align: middle;\n",
       "    }\n",
       "\n",
       "    .dataframe tbody tr th {\n",
       "        vertical-align: top;\n",
       "    }\n",
       "\n",
       "    .dataframe thead th {\n",
       "        text-align: right;\n",
       "    }\n",
       "</style>\n",
       "<table border=\"1\" class=\"dataframe\">\n",
       "  <thead>\n",
       "    <tr style=\"text-align: right;\">\n",
       "      <th></th>\n",
       "      <th>Date</th>\n",
       "      <th>Close</th>\n",
       "    </tr>\n",
       "  </thead>\n",
       "  <tbody>\n",
       "    <tr>\n",
       "      <th>0</th>\n",
       "      <td>2019-09-03</td>\n",
       "      <td>1110.0</td>\n",
       "    </tr>\n",
       "    <tr>\n",
       "      <th>1</th>\n",
       "      <td>2019-09-04</td>\n",
       "      <td>1100.0</td>\n",
       "    </tr>\n",
       "    <tr>\n",
       "      <th>2</th>\n",
       "      <td>2019-09-05</td>\n",
       "      <td>1100.0</td>\n",
       "    </tr>\n",
       "    <tr>\n",
       "      <th>3</th>\n",
       "      <td>2019-09-06</td>\n",
       "      <td>1075.0</td>\n",
       "    </tr>\n",
       "    <tr>\n",
       "      <th>4</th>\n",
       "      <td>2019-09-09</td>\n",
       "      <td>1120.0</td>\n",
       "    </tr>\n",
       "  </tbody>\n",
       "</table>\n",
       "</div>"
      ],
      "text/plain": [
       "         Date   Close\n",
       "0  2019-09-03  1110.0\n",
       "1  2019-09-04  1100.0\n",
       "2  2019-09-05  1100.0\n",
       "3  2019-09-06  1075.0\n",
       "4  2019-09-09  1120.0"
      ]
     },
     "execution_count": 102,
     "metadata": {},
     "output_type": "execute_result"
    }
   ],
   "source": [
    "data = df[['Date', 'Close']]\n",
    "data.head()"
   ]
  },
  {
   "cell_type": "markdown",
   "metadata": {},
   "source": [
    "#### Checking data types"
   ]
  },
  {
   "cell_type": "code",
   "execution_count": 103,
   "metadata": {},
   "outputs": [
    {
     "name": "stdout",
     "output_type": "stream",
     "text": [
      "<class 'pandas.core.frame.DataFrame'>\n",
      "RangeIndex: 1214 entries, 0 to 1213\n",
      "Data columns (total 2 columns):\n",
      " #   Column  Non-Null Count  Dtype  \n",
      "---  ------  --------------  -----  \n",
      " 0   Date    1214 non-null   object \n",
      " 1   Close   1214 non-null   float64\n",
      "dtypes: float64(1), object(1)\n",
      "memory usage: 19.1+ KB\n"
     ]
    }
   ],
   "source": [
    "data.info()"
   ]
  },
  {
   "cell_type": "markdown",
   "metadata": {},
   "source": [
    "Data yang kami periksa mengandung tipe data yang tidak sesuai. Kolom \"Date\" seharusnya bertipe data `datetime`, namun saat ini tercatat sebagai `object`. Kami perlu mengonversi kolom ini ke tipe data `datetime` agar analisis waktu dapat dilakukan dengan tepat."
   ]
  },
  {
   "cell_type": "markdown",
   "metadata": {},
   "source": [
    "#### Mengubah kolom 'Date' menjadi tipe datetime"
   ]
  },
  {
   "cell_type": "code",
   "execution_count": 104,
   "metadata": {},
   "outputs": [
    {
     "name": "stdout",
     "output_type": "stream",
     "text": [
      "<class 'pandas.core.frame.DataFrame'>\n",
      "RangeIndex: 1214 entries, 0 to 1213\n",
      "Data columns (total 2 columns):\n",
      " #   Column  Non-Null Count  Dtype         \n",
      "---  ------  --------------  -----         \n",
      " 0   Date    1214 non-null   datetime64[ns]\n",
      " 1   Close   1214 non-null   float64       \n",
      "dtypes: datetime64[ns](1), float64(1)\n",
      "memory usage: 19.1 KB\n"
     ]
    },
    {
     "name": "stderr",
     "output_type": "stream",
     "text": [
      "C:\\Users\\asus\\AppData\\Local\\Temp\\ipykernel_10964\\511077666.py:1: SettingWithCopyWarning: \n",
      "A value is trying to be set on a copy of a slice from a DataFrame.\n",
      "Try using .loc[row_indexer,col_indexer] = value instead\n",
      "\n",
      "See the caveats in the documentation: https://pandas.pydata.org/pandas-docs/stable/user_guide/indexing.html#returning-a-view-versus-a-copy\n",
      "  data['Date'] = pd.to_datetime(data['Date'])\n"
     ]
    }
   ],
   "source": [
    "data['Date'] = pd.to_datetime(data['Date'])\n",
    "data.info()"
   ]
  },
  {
   "cell_type": "markdown",
   "metadata": {},
   "source": [
    "#### Statistik deskriptif"
   ]
  },
  {
   "cell_type": "code",
   "execution_count": 105,
   "metadata": {},
   "outputs": [
    {
     "data": {
      "text/html": [
       "<div>\n",
       "<style scoped>\n",
       "    .dataframe tbody tr th:only-of-type {\n",
       "        vertical-align: middle;\n",
       "    }\n",
       "\n",
       "    .dataframe tbody tr th {\n",
       "        vertical-align: top;\n",
       "    }\n",
       "\n",
       "    .dataframe thead th {\n",
       "        text-align: right;\n",
       "    }\n",
       "</style>\n",
       "<table border=\"1\" class=\"dataframe\">\n",
       "  <thead>\n",
       "    <tr style=\"text-align: right;\">\n",
       "      <th></th>\n",
       "      <th>Close</th>\n",
       "    </tr>\n",
       "  </thead>\n",
       "  <tbody>\n",
       "    <tr>\n",
       "      <th>count</th>\n",
       "      <td>1214.000000</td>\n",
       "    </tr>\n",
       "    <tr>\n",
       "      <th>mean</th>\n",
       "      <td>1715.227348</td>\n",
       "    </tr>\n",
       "    <tr>\n",
       "      <th>std</th>\n",
       "      <td>650.940017</td>\n",
       "    </tr>\n",
       "    <tr>\n",
       "      <th>min</th>\n",
       "      <td>348.000000</td>\n",
       "    </tr>\n",
       "    <tr>\n",
       "      <th>25%</th>\n",
       "      <td>1215.000000</td>\n",
       "    </tr>\n",
       "    <tr>\n",
       "      <th>50%</th>\n",
       "      <td>1877.500000</td>\n",
       "    </tr>\n",
       "    <tr>\n",
       "      <th>75%</th>\n",
       "      <td>2250.000000</td>\n",
       "    </tr>\n",
       "    <tr>\n",
       "      <th>max</th>\n",
       "      <td>3190.000000</td>\n",
       "    </tr>\n",
       "  </tbody>\n",
       "</table>\n",
       "</div>"
      ],
      "text/plain": [
       "             Close\n",
       "count  1214.000000\n",
       "mean   1715.227348\n",
       "std     650.940017\n",
       "min     348.000000\n",
       "25%    1215.000000\n",
       "50%    1877.500000\n",
       "75%    2250.000000\n",
       "max    3190.000000"
      ]
     },
     "execution_count": 105,
     "metadata": {},
     "output_type": "execute_result"
    }
   ],
   "source": [
    "data.describe()"
   ]
  },
  {
   "cell_type": "markdown",
   "metadata": {},
   "source": [
    "Data harga penutupan yang kami analisis mencakup 1214 pengamatan. Rata-rata harga penutupan adalah sekitar 4291.78. Fluktuasi harga di sekitar rata-rata ini biasanya sebesar 859.15, yang menunjukkan variasi harga yang cukup besar. Harga penutupan terendah yang tercatat adalah 1972.69, sementara yang tertinggi mencapai 6400.00. Untuk memberi gambaran lebih jelas, 25% dari harga penutupan berada di bawah 3774.50, sedangkan nilai tengahnya adalah 4290.83, dan 75% harga penutupan berada di bawah 4820.00. Ini menunjukkan bahwa harga seringkali berfluktuasi secara signifikan dengan rentang yang cukup lebar."
   ]
  },
  {
   "cell_type": "markdown",
   "metadata": {},
   "source": [
    "#### Normalisasi Data"
   ]
  },
  {
   "cell_type": "code",
   "execution_count": 106,
   "metadata": {},
   "outputs": [
    {
     "data": {
      "text/plain": [
       "array([[0.26812104],\n",
       "       [0.26460239],\n",
       "       [0.26460239],\n",
       "       ...,\n",
       "       [0.36664321],\n",
       "       [0.36840253],\n",
       "       [0.36312456]])"
      ]
     },
     "execution_count": 106,
     "metadata": {},
     "output_type": "execute_result"
    }
   ],
   "source": [
    "# Initialize the MinMaxScaler to scale features to the range [0, 1]\n",
    "sc = MinMaxScaler(feature_range=(0, 1))\n",
    "\n",
    "# Fit the scaler to the 'Close' column and transform the data\n",
    "data_sc = sc.fit_transform(data[['Close']].values)\n",
    "data_sc"
   ]
  },
  {
   "cell_type": "markdown",
   "metadata": {},
   "source": [
    "#### Splitting Data"
   ]
  },
  {
   "cell_type": "code",
   "execution_count": 107,
   "metadata": {},
   "outputs": [],
   "source": [
    "train_len = math.ceil(len(data_sc) * 0.8)\n",
    "val_len = math.ceil(train_len * 0.2)\n",
    "train_len = train_len - val_len\n",
    "test_len = math.ceil(len(data_sc) *0.2)"
   ]
  },
  {
   "cell_type": "code",
   "execution_count": 108,
   "metadata": {},
   "outputs": [
    {
     "data": {
      "text/plain": [
       "(777, 195, 243)"
      ]
     },
     "execution_count": 108,
     "metadata": {},
     "output_type": "execute_result"
    }
   ],
   "source": [
    "train_len, val_len, test_len"
   ]
  },
  {
   "cell_type": "markdown",
   "metadata": {},
   "source": [
    "- train_len = 777: Panjang set pelatihan adalah 777 data point. Ini adalah data yang digunakan untuk melatih model.\n",
    "\n",
    "- val_len = 195: Panjang set validasi adalah 195 data point. Ini adalah data yang digunakan untuk menilai model selama pelatihan dan menyesuaikan hiperparameter.\n",
    "\n",
    "- test_len = 243: Panjang set pengujian adalah 243 data point. Ini adalah data yang digunakan untuk menguji model setelah pelatihan selesai dan memberikan ukuran akhir kinerja model."
   ]
  },
  {
   "cell_type": "markdown",
   "metadata": {},
   "source": [
    "#### Persiapan Data untuk Model LSTM"
   ]
  },
  {
   "cell_type": "code",
   "execution_count": 109,
   "metadata": {},
   "outputs": [],
   "source": [
    "train_data = data_sc[0:train_len, :]\n",
    "X_train = []\n",
    "y_train = []\n",
    "for i in range(30, len(train_data)):\n",
    "    X_train.append(train_data[i-30:i,0])\n",
    "    y_train.append(train_data[i, 0])"
   ]
  },
  {
   "cell_type": "code",
   "execution_count": 110,
   "metadata": {},
   "outputs": [],
   "source": [
    "X_train, y_train = np.array(X_train), np.array(y_train)"
   ]
  },
  {
   "cell_type": "code",
   "execution_count": 111,
   "metadata": {},
   "outputs": [],
   "source": [
    "X_train = np.reshape(X_train, (X_train.shape[0], X_train.shape[1], 1))"
   ]
  },
  {
   "cell_type": "code",
   "execution_count": 112,
   "metadata": {},
   "outputs": [],
   "source": [
    "val_data = data_sc[train_len -30:(train_len+val_len), :]\n",
    "X_val = []\n",
    "y_val = []\n",
    "for i in range(30, len(val_data)):\n",
    "    X_val.append(val_data[i-30:i, :])\n",
    "    y_val.append(val_data[i,0])"
   ]
  },
  {
   "cell_type": "code",
   "execution_count": 113,
   "metadata": {},
   "outputs": [],
   "source": [
    "X_val, y_val = np.array(X_val), np.array(y_val)"
   ]
  },
  {
   "cell_type": "code",
   "execution_count": 114,
   "metadata": {},
   "outputs": [
    {
     "data": {
      "text/plain": [
       "array([[[0.59535538],\n",
       "        [0.57072484],\n",
       "        [0.56896552],\n",
       "        ...,\n",
       "        [0.51442646],\n",
       "        [0.53377903],\n",
       "        [0.52146376]],\n",
       "\n",
       "       [[0.57072484],\n",
       "        [0.56896552],\n",
       "        [0.55489092],\n",
       "        ...,\n",
       "        [0.53377903],\n",
       "        [0.52146376],\n",
       "        [0.55137227]],\n",
       "\n",
       "       [[0.56896552],\n",
       "        [0.55489092],\n",
       "        [0.5531316 ],\n",
       "        ...,\n",
       "        [0.52146376],\n",
       "        [0.55137227],\n",
       "        [0.58128079]],\n",
       "\n",
       "       ...,\n",
       "\n",
       "       [[0.57776214],\n",
       "        [0.57776214],\n",
       "        [0.58128079],\n",
       "        ...,\n",
       "        [0.56192822],\n",
       "        [0.56544687],\n",
       "        [0.57952146]],\n",
       "\n",
       "       [[0.57776214],\n",
       "        [0.58128079],\n",
       "        [0.57776214],\n",
       "        ...,\n",
       "        [0.56544687],\n",
       "        [0.57952146],\n",
       "        [0.57776214]],\n",
       "\n",
       "       [[0.58128079],\n",
       "        [0.57776214],\n",
       "        [0.57776214],\n",
       "        ...,\n",
       "        [0.57952146],\n",
       "        [0.57776214],\n",
       "        [0.57952146]]])"
      ]
     },
     "execution_count": 114,
     "metadata": {},
     "output_type": "execute_result"
    }
   ],
   "source": [
    "X_val = np.reshape(X_val, (X_val.shape[0], X_val.shape[1],1))\n",
    "X_val"
   ]
  },
  {
   "cell_type": "markdown",
   "metadata": {},
   "source": [
    "#### Membuat Model LSTM"
   ]
  },
  {
   "cell_type": "code",
   "execution_count": 115,
   "metadata": {},
   "outputs": [
    {
     "name": "stderr",
     "output_type": "stream",
     "text": [
      "c:\\Python\\Python39\\lib\\site-packages\\keras\\src\\layers\\rnn\\rnn.py:204: UserWarning: Do not pass an `input_shape`/`input_dim` argument to a layer. When using Sequential models, prefer using an `Input(shape)` object as the first layer in the model instead.\n",
      "  super().__init__(**kwargs)\n"
     ]
    }
   ],
   "source": [
    "model = Sequential()\n",
    "model.add(LSTM(units=100, return_sequences=True, input_shape=(X_train.shape[1],1)))\n",
    "model.add(LSTM(units=100))\n",
    "model.add(Dropout(0.2))\n",
    "model.add(Dense(units=50))\n",
    "model.add(Dense(units=1))"
   ]
  },
  {
   "cell_type": "code",
   "execution_count": 116,
   "metadata": {},
   "outputs": [],
   "source": [
    "import os\n",
    "from tensorflow.keras.callbacks import EarlyStopping, ModelCheckpoint\n",
    "\n",
    "# EarlyStopping Callback\n",
    "earlyStopping = EarlyStopping(\n",
    "    monitor='val_loss',\n",
    "    patience=5,\n",
    "    min_delta=0.0001,\n",
    "    verbose=1,\n",
    "    restore_best_weights=True\n",
    ")\n",
    "\n",
    "# ModelCheckpoint Callback\n",
    "checkpoint_path = 'model_checkpoints/weight_lstm_model.weights.h5'  # Ubah ekstensi ke .weights.h5\n",
    "checkpoint_dir = os.path.dirname(checkpoint_path)\n",
    "checkpoint = ModelCheckpoint(\n",
    "    filepath=checkpoint_path,\n",
    "    monitor='val_loss',\n",
    "    mode='min',\n",
    "    save_best_only=True,\n",
    "    save_weights_only=True,  # Pastikan ini True jika hanya menyimpan bobot\n",
    "    verbose=1\n",
    ")\n"
   ]
  },
  {
   "cell_type": "code",
   "execution_count": 117,
   "metadata": {},
   "outputs": [],
   "source": [
    "op = tf.keras.optimizers.Adam(learning_rate=0.0001)\n",
    "model.compile(optimizer=op, loss='mean_squared_error')"
   ]
  },
  {
   "cell_type": "code",
   "execution_count": 118,
   "metadata": {},
   "outputs": [
    {
     "name": "stdout",
     "output_type": "stream",
     "text": [
      "Epoch 1/100\n",
      "\u001b[1m46/47\u001b[0m \u001b[32m━━━━━━━━━━━━━━━━━━━\u001b[0m\u001b[37m━\u001b[0m \u001b[1m0s\u001b[0m 21ms/step - loss: 0.1770\n",
      "Epoch 1: val_loss improved from inf to 0.00149, saving model to model_checkpoints/weight_lstm_model.weights.h5\n",
      "\u001b[1m47/47\u001b[0m \u001b[32m━━━━━━━━━━━━━━━━━━━━\u001b[0m\u001b[37m\u001b[0m \u001b[1m6s\u001b[0m 37ms/step - loss: 0.1731 - val_loss: 0.0015\n",
      "Epoch 2/100\n",
      "\u001b[1m45/47\u001b[0m \u001b[32m━━━━━━━━━━━━━━━━━━━\u001b[0m\u001b[37m━\u001b[0m \u001b[1m0s\u001b[0m 23ms/step - loss: 0.0102\n",
      "Epoch 2: val_loss improved from 0.00149 to 0.00141, saving model to model_checkpoints/weight_lstm_model.weights.h5\n",
      "\u001b[1m47/47\u001b[0m \u001b[32m━━━━━━━━━━━━━━━━━━━━\u001b[0m\u001b[37m\u001b[0m \u001b[1m2s\u001b[0m 29ms/step - loss: 0.0102 - val_loss: 0.0014\n",
      "Epoch 3/100\n",
      "\u001b[1m46/47\u001b[0m \u001b[32m━━━━━━━━━━━━━━━━━━━\u001b[0m\u001b[37m━\u001b[0m \u001b[1m0s\u001b[0m 26ms/step - loss: 0.0086\n",
      "Epoch 3: val_loss improved from 0.00141 to 0.00138, saving model to model_checkpoints/weight_lstm_model.weights.h5\n",
      "\u001b[1m47/47\u001b[0m \u001b[32m━━━━━━━━━━━━━━━━━━━━\u001b[0m\u001b[37m\u001b[0m \u001b[1m2s\u001b[0m 33ms/step - loss: 0.0086 - val_loss: 0.0014\n",
      "Epoch 4/100\n",
      "\u001b[1m46/47\u001b[0m \u001b[32m━━━━━━━━━━━━━━━━━━━\u001b[0m\u001b[37m━\u001b[0m \u001b[1m0s\u001b[0m 32ms/step - loss: 0.0076\n",
      "Epoch 4: val_loss did not improve from 0.00138\n",
      "\u001b[1m47/47\u001b[0m \u001b[32m━━━━━━━━━━━━━━━━━━━━\u001b[0m\u001b[37m\u001b[0m \u001b[1m2s\u001b[0m 36ms/step - loss: 0.0076 - val_loss: 0.0020\n",
      "Epoch 5/100\n",
      "\u001b[1m45/47\u001b[0m \u001b[32m━━━━━━━━━━━━━━━━━━━\u001b[0m\u001b[37m━\u001b[0m \u001b[1m0s\u001b[0m 21ms/step - loss: 0.0063\n",
      "Epoch 5: val_loss improved from 0.00138 to 0.00136, saving model to model_checkpoints/weight_lstm_model.weights.h5\n",
      "\u001b[1m47/47\u001b[0m \u001b[32m━━━━━━━━━━━━━━━━━━━━\u001b[0m\u001b[37m\u001b[0m \u001b[1m1s\u001b[0m 25ms/step - loss: 0.0063 - val_loss: 0.0014\n",
      "Epoch 6/100\n",
      "\u001b[1m47/47\u001b[0m \u001b[32m━━━━━━━━━━━━━━━━━━━━\u001b[0m\u001b[37m\u001b[0m \u001b[1m0s\u001b[0m 21ms/step - loss: 0.0066\n",
      "Epoch 6: val_loss improved from 0.00136 to 0.00124, saving model to model_checkpoints/weight_lstm_model.weights.h5\n",
      "\u001b[1m47/47\u001b[0m \u001b[32m━━━━━━━━━━━━━━━━━━━━\u001b[0m\u001b[37m\u001b[0m \u001b[1m1s\u001b[0m 25ms/step - loss: 0.0066 - val_loss: 0.0012\n",
      "Epoch 7/100\n",
      "\u001b[1m47/47\u001b[0m \u001b[32m━━━━━━━━━━━━━━━━━━━━\u001b[0m\u001b[37m\u001b[0m \u001b[1m0s\u001b[0m 21ms/step - loss: 0.0059\n",
      "Epoch 7: val_loss improved from 0.00124 to 0.00115, saving model to model_checkpoints/weight_lstm_model.weights.h5\n",
      "\u001b[1m47/47\u001b[0m \u001b[32m━━━━━━━━━━━━━━━━━━━━\u001b[0m\u001b[37m\u001b[0m \u001b[1m1s\u001b[0m 29ms/step - loss: 0.0059 - val_loss: 0.0011\n",
      "Epoch 8/100\n",
      "\u001b[1m46/47\u001b[0m \u001b[32m━━━━━━━━━━━━━━━━━━━\u001b[0m\u001b[37m━\u001b[0m \u001b[1m0s\u001b[0m 20ms/step - loss: 0.0061\n",
      "Epoch 8: val_loss did not improve from 0.00115\n",
      "\u001b[1m47/47\u001b[0m \u001b[32m━━━━━━━━━━━━━━━━━━━━\u001b[0m\u001b[37m\u001b[0m \u001b[1m1s\u001b[0m 23ms/step - loss: 0.0061 - val_loss: 0.0012\n",
      "Epoch 9/100\n",
      "\u001b[1m45/47\u001b[0m \u001b[32m━━━━━━━━━━━━━━━━━━━\u001b[0m\u001b[37m━\u001b[0m \u001b[1m0s\u001b[0m 24ms/step - loss: 0.0048\n",
      "Epoch 9: val_loss improved from 0.00115 to 0.00106, saving model to model_checkpoints/weight_lstm_model.weights.h5\n",
      "\u001b[1m47/47\u001b[0m \u001b[32m━━━━━━━━━━━━━━━━━━━━\u001b[0m\u001b[37m\u001b[0m \u001b[1m1s\u001b[0m 31ms/step - loss: 0.0048 - val_loss: 0.0011\n",
      "Epoch 10/100\n",
      "\u001b[1m47/47\u001b[0m \u001b[32m━━━━━━━━━━━━━━━━━━━━\u001b[0m\u001b[37m\u001b[0m \u001b[1m0s\u001b[0m 21ms/step - loss: 0.0051\n",
      "Epoch 10: val_loss did not improve from 0.00106\n",
      "\u001b[1m47/47\u001b[0m \u001b[32m━━━━━━━━━━━━━━━━━━━━\u001b[0m\u001b[37m\u001b[0m \u001b[1m1s\u001b[0m 23ms/step - loss: 0.0051 - val_loss: 0.0022\n",
      "Epoch 11/100\n",
      "\u001b[1m46/47\u001b[0m \u001b[32m━━━━━━━━━━━━━━━━━━━\u001b[0m\u001b[37m━\u001b[0m \u001b[1m0s\u001b[0m 19ms/step - loss: 0.0053\n",
      "Epoch 11: val_loss did not improve from 0.00106\n",
      "\u001b[1m47/47\u001b[0m \u001b[32m━━━━━━━━━━━━━━━━━━━━\u001b[0m\u001b[37m\u001b[0m \u001b[1m1s\u001b[0m 21ms/step - loss: 0.0053 - val_loss: 0.0012\n",
      "Epoch 12/100\n",
      "\u001b[1m47/47\u001b[0m \u001b[32m━━━━━━━━━━━━━━━━━━━━\u001b[0m\u001b[37m\u001b[0m \u001b[1m0s\u001b[0m 26ms/step - loss: 0.0042\n",
      "Epoch 12: val_loss improved from 0.00106 to 0.00101, saving model to model_checkpoints/weight_lstm_model.weights.h5\n",
      "\u001b[1m47/47\u001b[0m \u001b[32m━━━━━━━━━━━━━━━━━━━━\u001b[0m\u001b[37m\u001b[0m \u001b[1m2s\u001b[0m 34ms/step - loss: 0.0042 - val_loss: 0.0010\n",
      "Epoch 13/100\n",
      "\u001b[1m45/47\u001b[0m \u001b[32m━━━━━━━━━━━━━━━━━━━\u001b[0m\u001b[37m━\u001b[0m \u001b[1m0s\u001b[0m 19ms/step - loss: 0.0048\n",
      "Epoch 13: val_loss improved from 0.00101 to 0.00092, saving model to model_checkpoints/weight_lstm_model.weights.h5\n",
      "\u001b[1m47/47\u001b[0m \u001b[32m━━━━━━━━━━━━━━━━━━━━\u001b[0m\u001b[37m\u001b[0m \u001b[1m1s\u001b[0m 25ms/step - loss: 0.0048 - val_loss: 9.2243e-04\n",
      "Epoch 14/100\n",
      "\u001b[1m47/47\u001b[0m \u001b[32m━━━━━━━━━━━━━━━━━━━━\u001b[0m\u001b[37m\u001b[0m \u001b[1m0s\u001b[0m 20ms/step - loss: 0.0047\n",
      "Epoch 14: val_loss did not improve from 0.00092\n",
      "\u001b[1m47/47\u001b[0m \u001b[32m━━━━━━━━━━━━━━━━━━━━\u001b[0m\u001b[37m\u001b[0m \u001b[1m2s\u001b[0m 22ms/step - loss: 0.0047 - val_loss: 0.0012\n",
      "Epoch 15/100\n",
      "\u001b[1m46/47\u001b[0m \u001b[32m━━━━━━━━━━━━━━━━━━━\u001b[0m\u001b[37m━\u001b[0m \u001b[1m0s\u001b[0m 19ms/step - loss: 0.0046\n",
      "Epoch 15: val_loss did not improve from 0.00092\n",
      "\u001b[1m47/47\u001b[0m \u001b[32m━━━━━━━━━━━━━━━━━━━━\u001b[0m\u001b[37m\u001b[0m \u001b[1m1s\u001b[0m 22ms/step - loss: 0.0046 - val_loss: 0.0011\n",
      "Epoch 16/100\n",
      "\u001b[1m46/47\u001b[0m \u001b[32m━━━━━━━━━━━━━━━━━━━\u001b[0m\u001b[37m━\u001b[0m \u001b[1m0s\u001b[0m 19ms/step - loss: 0.0039\n",
      "Epoch 16: val_loss improved from 0.00092 to 0.00082, saving model to model_checkpoints/weight_lstm_model.weights.h5\n",
      "\u001b[1m47/47\u001b[0m \u001b[32m━━━━━━━━━━━━━━━━━━━━\u001b[0m\u001b[37m\u001b[0m \u001b[1m1s\u001b[0m 24ms/step - loss: 0.0039 - val_loss: 8.1641e-04\n",
      "Epoch 17/100\n",
      "\u001b[1m45/47\u001b[0m \u001b[32m━━━━━━━━━━━━━━━━━━━\u001b[0m\u001b[37m━\u001b[0m \u001b[1m0s\u001b[0m 25ms/step - loss: 0.0039\n",
      "Epoch 17: val_loss did not improve from 0.00082\n",
      "\u001b[1m47/47\u001b[0m \u001b[32m━━━━━━━━━━━━━━━━━━━━\u001b[0m\u001b[37m\u001b[0m \u001b[1m2s\u001b[0m 29ms/step - loss: 0.0039 - val_loss: 9.3453e-04\n",
      "Epoch 18/100\n",
      "\u001b[1m45/47\u001b[0m \u001b[32m━━━━━━━━━━━━━━━━━━━\u001b[0m\u001b[37m━\u001b[0m \u001b[1m0s\u001b[0m 28ms/step - loss: 0.0039\n",
      "Epoch 18: val_loss did not improve from 0.00082\n",
      "\u001b[1m47/47\u001b[0m \u001b[32m━━━━━━━━━━━━━━━━━━━━\u001b[0m\u001b[37m\u001b[0m \u001b[1m2s\u001b[0m 32ms/step - loss: 0.0039 - val_loss: 8.5876e-04\n",
      "Epoch 19/100\n",
      "\u001b[1m47/47\u001b[0m \u001b[32m━━━━━━━━━━━━━━━━━━━━\u001b[0m\u001b[37m\u001b[0m \u001b[1m0s\u001b[0m 26ms/step - loss: 0.0038\n",
      "Epoch 19: val_loss did not improve from 0.00082\n",
      "\u001b[1m47/47\u001b[0m \u001b[32m━━━━━━━━━━━━━━━━━━━━\u001b[0m\u001b[37m\u001b[0m \u001b[1m3s\u001b[0m 31ms/step - loss: 0.0038 - val_loss: 9.3641e-04\n",
      "Epoch 20/100\n",
      "\u001b[1m46/47\u001b[0m \u001b[32m━━━━━━━━━━━━━━━━━━━\u001b[0m\u001b[37m━\u001b[0m \u001b[1m0s\u001b[0m 25ms/step - loss: 0.0037\n",
      "Epoch 20: val_loss did not improve from 0.00082\n",
      "\u001b[1m47/47\u001b[0m \u001b[32m━━━━━━━━━━━━━━━━━━━━\u001b[0m\u001b[37m\u001b[0m \u001b[1m1s\u001b[0m 29ms/step - loss: 0.0037 - val_loss: 9.7755e-04\n",
      "Epoch 21/100\n",
      "\u001b[1m45/47\u001b[0m \u001b[32m━━━━━━━━━━━━━━━━━━━\u001b[0m\u001b[37m━\u001b[0m \u001b[1m0s\u001b[0m 20ms/step - loss: 0.0036\n",
      "Epoch 21: val_loss improved from 0.00082 to 0.00072, saving model to model_checkpoints/weight_lstm_model.weights.h5\n",
      "\u001b[1m47/47\u001b[0m \u001b[32m━━━━━━━━━━━━━━━━━━━━\u001b[0m\u001b[37m\u001b[0m \u001b[1m1s\u001b[0m 27ms/step - loss: 0.0036 - val_loss: 7.1875e-04\n",
      "Epoch 22/100\n",
      "\u001b[1m46/47\u001b[0m \u001b[32m━━━━━━━━━━━━━━━━━━━\u001b[0m\u001b[37m━\u001b[0m \u001b[1m0s\u001b[0m 19ms/step - loss: 0.0038\n",
      "Epoch 22: val_loss improved from 0.00072 to 0.00069, saving model to model_checkpoints/weight_lstm_model.weights.h5\n",
      "\u001b[1m47/47\u001b[0m \u001b[32m━━━━━━━━━━━━━━━━━━━━\u001b[0m\u001b[37m\u001b[0m \u001b[1m1s\u001b[0m 26ms/step - loss: 0.0038 - val_loss: 6.9063e-04\n",
      "Epoch 23/100\n",
      "\u001b[1m46/47\u001b[0m \u001b[32m━━━━━━━━━━━━━━━━━━━\u001b[0m\u001b[37m━\u001b[0m \u001b[1m0s\u001b[0m 19ms/step - loss: 0.0035\n",
      "Epoch 23: val_loss did not improve from 0.00069\n",
      "\u001b[1m47/47\u001b[0m \u001b[32m━━━━━━━━━━━━━━━━━━━━\u001b[0m\u001b[37m\u001b[0m \u001b[1m1s\u001b[0m 21ms/step - loss: 0.0035 - val_loss: 6.9270e-04\n",
      "Epoch 24/100\n",
      "\u001b[1m46/47\u001b[0m \u001b[32m━━━━━━━━━━━━━━━━━━━\u001b[0m\u001b[37m━\u001b[0m \u001b[1m0s\u001b[0m 19ms/step - loss: 0.0027\n",
      "Epoch 24: val_loss improved from 0.00069 to 0.00067, saving model to model_checkpoints/weight_lstm_model.weights.h5\n",
      "\u001b[1m47/47\u001b[0m \u001b[32m━━━━━━━━━━━━━━━━━━━━\u001b[0m\u001b[37m\u001b[0m \u001b[1m1s\u001b[0m 26ms/step - loss: 0.0027 - val_loss: 6.6978e-04\n",
      "Epoch 25/100\n",
      "\u001b[1m47/47\u001b[0m \u001b[32m━━━━━━━━━━━━━━━━━━━━\u001b[0m\u001b[37m\u001b[0m \u001b[1m0s\u001b[0m 20ms/step - loss: 0.0034\n",
      "Epoch 25: val_loss did not improve from 0.00067\n",
      "\u001b[1m47/47\u001b[0m \u001b[32m━━━━━━━━━━━━━━━━━━━━\u001b[0m\u001b[37m\u001b[0m \u001b[1m1s\u001b[0m 22ms/step - loss: 0.0034 - val_loss: 7.2299e-04\n",
      "Epoch 26/100\n",
      "\u001b[1m47/47\u001b[0m \u001b[32m━━━━━━━━━━━━━━━━━━━━\u001b[0m\u001b[37m\u001b[0m \u001b[1m0s\u001b[0m 26ms/step - loss: 0.0035\n",
      "Epoch 26: val_loss improved from 0.00067 to 0.00065, saving model to model_checkpoints/weight_lstm_model.weights.h5\n",
      "\u001b[1m47/47\u001b[0m \u001b[32m━━━━━━━━━━━━━━━━━━━━\u001b[0m\u001b[37m\u001b[0m \u001b[1m2s\u001b[0m 32ms/step - loss: 0.0035 - val_loss: 6.5256e-04\n",
      "Epoch 27/100\n",
      "\u001b[1m46/47\u001b[0m \u001b[32m━━━━━━━━━━━━━━━━━━━\u001b[0m\u001b[37m━\u001b[0m \u001b[1m0s\u001b[0m 21ms/step - loss: 0.0031\n",
      "Epoch 27: val_loss did not improve from 0.00065\n",
      "\u001b[1m47/47\u001b[0m \u001b[32m━━━━━━━━━━━━━━━━━━━━\u001b[0m\u001b[37m\u001b[0m \u001b[1m1s\u001b[0m 24ms/step - loss: 0.0031 - val_loss: 0.0018\n",
      "Epoch 28/100\n",
      "\u001b[1m45/47\u001b[0m \u001b[32m━━━━━━━━━━━━━━━━━━━\u001b[0m\u001b[37m━\u001b[0m \u001b[1m0s\u001b[0m 21ms/step - loss: 0.0030\n",
      "Epoch 28: val_loss did not improve from 0.00065\n",
      "\u001b[1m47/47\u001b[0m \u001b[32m━━━━━━━━━━━━━━━━━━━━\u001b[0m\u001b[37m\u001b[0m \u001b[1m1s\u001b[0m 24ms/step - loss: 0.0030 - val_loss: 6.5545e-04\n",
      "Epoch 29/100\n",
      "\u001b[1m46/47\u001b[0m \u001b[32m━━━━━━━━━━━━━━━━━━━\u001b[0m\u001b[37m━\u001b[0m \u001b[1m0s\u001b[0m 19ms/step - loss: 0.0035\n",
      "Epoch 29: val_loss improved from 0.00065 to 0.00064, saving model to model_checkpoints/weight_lstm_model.weights.h5\n",
      "\u001b[1m47/47\u001b[0m \u001b[32m━━━━━━━━━━━━━━━━━━━━\u001b[0m\u001b[37m\u001b[0m \u001b[1m1s\u001b[0m 27ms/step - loss: 0.0034 - val_loss: 6.3870e-04\n",
      "Epoch 30/100\n",
      "\u001b[1m46/47\u001b[0m \u001b[32m━━━━━━━━━━━━━━━━━━━\u001b[0m\u001b[37m━\u001b[0m \u001b[1m0s\u001b[0m 19ms/step - loss: 0.0027\n",
      "Epoch 30: val_loss improved from 0.00064 to 0.00059, saving model to model_checkpoints/weight_lstm_model.weights.h5\n",
      "\u001b[1m47/47\u001b[0m \u001b[32m━━━━━━━━━━━━━━━━━━━━\u001b[0m\u001b[37m\u001b[0m \u001b[1m1s\u001b[0m 24ms/step - loss: 0.0027 - val_loss: 5.9298e-04\n",
      "Epoch 31/100\n",
      "\u001b[1m47/47\u001b[0m \u001b[32m━━━━━━━━━━━━━━━━━━━━\u001b[0m\u001b[37m\u001b[0m \u001b[1m0s\u001b[0m 21ms/step - loss: 0.0026\n",
      "Epoch 31: val_loss did not improve from 0.00059\n",
      "\u001b[1m47/47\u001b[0m \u001b[32m━━━━━━━━━━━━━━━━━━━━\u001b[0m\u001b[37m\u001b[0m \u001b[1m1s\u001b[0m 23ms/step - loss: 0.0026 - val_loss: 6.5553e-04\n",
      "Epoch 32/100\n",
      "\u001b[1m46/47\u001b[0m \u001b[32m━━━━━━━━━━━━━━━━━━━\u001b[0m\u001b[37m━\u001b[0m \u001b[1m0s\u001b[0m 20ms/step - loss: 0.0029\n",
      "Epoch 32: val_loss did not improve from 0.00059\n",
      "\u001b[1m47/47\u001b[0m \u001b[32m━━━━━━━━━━━━━━━━━━━━\u001b[0m\u001b[37m\u001b[0m \u001b[1m1s\u001b[0m 22ms/step - loss: 0.0029 - val_loss: 0.0014\n",
      "Epoch 33/100\n",
      "\u001b[1m45/47\u001b[0m \u001b[32m━━━━━━━━━━━━━━━━━━━\u001b[0m\u001b[37m━\u001b[0m \u001b[1m0s\u001b[0m 20ms/step - loss: 0.0034\n",
      "Epoch 33: val_loss did not improve from 0.00059\n",
      "\u001b[1m47/47\u001b[0m \u001b[32m━━━━━━━━━━━━━━━━━━━━\u001b[0m\u001b[37m\u001b[0m \u001b[1m1s\u001b[0m 23ms/step - loss: 0.0033 - val_loss: 6.0024e-04\n",
      "Epoch 34/100\n",
      "\u001b[1m47/47\u001b[0m \u001b[32m━━━━━━━━━━━━━━━━━━━━\u001b[0m\u001b[37m\u001b[0m \u001b[1m0s\u001b[0m 22ms/step - loss: 0.0027\n",
      "Epoch 34: val_loss did not improve from 0.00059\n",
      "\u001b[1m47/47\u001b[0m \u001b[32m━━━━━━━━━━━━━━━━━━━━\u001b[0m\u001b[37m\u001b[0m \u001b[1m1s\u001b[0m 24ms/step - loss: 0.0027 - val_loss: 5.9850e-04\n",
      "Epoch 35/100\n",
      "\u001b[1m46/47\u001b[0m \u001b[32m━━━━━━━━━━━━━━━━━━━\u001b[0m\u001b[37m━\u001b[0m \u001b[1m0s\u001b[0m 19ms/step - loss: 0.0031\n",
      "Epoch 35: val_loss improved from 0.00059 to 0.00056, saving model to model_checkpoints/weight_lstm_model.weights.h5\n",
      "\u001b[1m47/47\u001b[0m \u001b[32m━━━━━━━━━━━━━━━━━━━━\u001b[0m\u001b[37m\u001b[0m \u001b[1m1s\u001b[0m 26ms/step - loss: 0.0031 - val_loss: 5.6442e-04\n",
      "Epoch 36/100\n",
      "\u001b[1m47/47\u001b[0m \u001b[32m━━━━━━━━━━━━━━━━━━━━\u001b[0m\u001b[37m\u001b[0m \u001b[1m0s\u001b[0m 19ms/step - loss: 0.0026\n",
      "Epoch 36: val_loss did not improve from 0.00056\n",
      "\u001b[1m47/47\u001b[0m \u001b[32m━━━━━━━━━━━━━━━━━━━━\u001b[0m\u001b[37m\u001b[0m \u001b[1m1s\u001b[0m 22ms/step - loss: 0.0026 - val_loss: 5.7323e-04\n",
      "Epoch 37/100\n",
      "\u001b[1m46/47\u001b[0m \u001b[32m━━━━━━━━━━━━━━━━━━━\u001b[0m\u001b[37m━\u001b[0m \u001b[1m0s\u001b[0m 21ms/step - loss: 0.0024\n",
      "Epoch 37: val_loss improved from 0.00056 to 0.00052, saving model to model_checkpoints/weight_lstm_model.weights.h5\n",
      "\u001b[1m47/47\u001b[0m \u001b[32m━━━━━━━━━━━━━━━━━━━━\u001b[0m\u001b[37m\u001b[0m \u001b[1m1s\u001b[0m 27ms/step - loss: 0.0024 - val_loss: 5.2450e-04\n",
      "Epoch 38/100\n",
      "\u001b[1m46/47\u001b[0m \u001b[32m━━━━━━━━━━━━━━━━━━━\u001b[0m\u001b[37m━\u001b[0m \u001b[1m0s\u001b[0m 18ms/step - loss: 0.0030\n",
      "Epoch 38: val_loss did not improve from 0.00052\n",
      "\u001b[1m47/47\u001b[0m \u001b[32m━━━━━━━━━━━━━━━━━━━━\u001b[0m\u001b[37m\u001b[0m \u001b[1m1s\u001b[0m 21ms/step - loss: 0.0030 - val_loss: 0.0011\n",
      "Epoch 39/100\n",
      "\u001b[1m46/47\u001b[0m \u001b[32m━━━━━━━━━━━━━━━━━━━\u001b[0m\u001b[37m━\u001b[0m \u001b[1m0s\u001b[0m 19ms/step - loss: 0.0025\n",
      "Epoch 39: val_loss did not improve from 0.00052\n",
      "\u001b[1m47/47\u001b[0m \u001b[32m━━━━━━━━━━━━━━━━━━━━\u001b[0m\u001b[37m\u001b[0m \u001b[1m1s\u001b[0m 21ms/step - loss: 0.0025 - val_loss: 7.9835e-04\n",
      "Epoch 40/100\n",
      "\u001b[1m45/47\u001b[0m \u001b[32m━━━━━━━━━━━━━━━━━━━\u001b[0m\u001b[37m━\u001b[0m \u001b[1m0s\u001b[0m 22ms/step - loss: 0.0023\n",
      "Epoch 40: val_loss did not improve from 0.00052\n",
      "\u001b[1m47/47\u001b[0m \u001b[32m━━━━━━━━━━━━━━━━━━━━\u001b[0m\u001b[37m\u001b[0m \u001b[1m1s\u001b[0m 24ms/step - loss: 0.0024 - val_loss: 5.2491e-04\n",
      "Epoch 41/100\n",
      "\u001b[1m46/47\u001b[0m \u001b[32m━━━━━━━━━━━━━━━━━━━\u001b[0m\u001b[37m━\u001b[0m \u001b[1m0s\u001b[0m 20ms/step - loss: 0.0024\n",
      "Epoch 41: val_loss improved from 0.00052 to 0.00051, saving model to model_checkpoints/weight_lstm_model.weights.h5\n",
      "\u001b[1m47/47\u001b[0m \u001b[32m━━━━━━━━━━━━━━━━━━━━\u001b[0m\u001b[37m\u001b[0m \u001b[1m1s\u001b[0m 27ms/step - loss: 0.0024 - val_loss: 5.0651e-04\n",
      "Epoch 42/100\n",
      "\u001b[1m45/47\u001b[0m \u001b[32m━━━━━━━━━━━━━━━━━━━\u001b[0m\u001b[37m━\u001b[0m \u001b[1m0s\u001b[0m 20ms/step - loss: 0.0025\n",
      "Epoch 42: val_loss did not improve from 0.00051\n",
      "\u001b[1m47/47\u001b[0m \u001b[32m━━━━━━━━━━━━━━━━━━━━\u001b[0m\u001b[37m\u001b[0m \u001b[1m1s\u001b[0m 23ms/step - loss: 0.0025 - val_loss: 9.6577e-04\n",
      "Epoch 43/100\n",
      "\u001b[1m47/47\u001b[0m \u001b[32m━━━━━━━━━━━━━━━━━━━━\u001b[0m\u001b[37m\u001b[0m \u001b[1m0s\u001b[0m 25ms/step - loss: 0.0023\n",
      "Epoch 43: val_loss did not improve from 0.00051\n",
      "\u001b[1m47/47\u001b[0m \u001b[32m━━━━━━━━━━━━━━━━━━━━\u001b[0m\u001b[37m\u001b[0m \u001b[1m1s\u001b[0m 27ms/step - loss: 0.0023 - val_loss: 6.6592e-04\n",
      "Epoch 44/100\n",
      "\u001b[1m46/47\u001b[0m \u001b[32m━━━━━━━━━━━━━━━━━━━\u001b[0m\u001b[37m━\u001b[0m \u001b[1m0s\u001b[0m 27ms/step - loss: 0.0021\n",
      "Epoch 44: val_loss improved from 0.00051 to 0.00046, saving model to model_checkpoints/weight_lstm_model.weights.h5\n",
      "\u001b[1m47/47\u001b[0m \u001b[32m━━━━━━━━━━━━━━━━━━━━\u001b[0m\u001b[37m\u001b[0m \u001b[1m2s\u001b[0m 37ms/step - loss: 0.0021 - val_loss: 4.6489e-04\n",
      "Epoch 45/100\n",
      "\u001b[1m46/47\u001b[0m \u001b[32m━━━━━━━━━━━━━━━━━━━\u001b[0m\u001b[37m━\u001b[0m \u001b[1m0s\u001b[0m 23ms/step - loss: 0.0024\n",
      "Epoch 45: val_loss did not improve from 0.00046\n",
      "\u001b[1m47/47\u001b[0m \u001b[32m━━━━━━━━━━━━━━━━━━━━\u001b[0m\u001b[37m\u001b[0m \u001b[1m2s\u001b[0m 25ms/step - loss: 0.0024 - val_loss: 4.9362e-04\n",
      "Epoch 46/100\n",
      "\u001b[1m46/47\u001b[0m \u001b[32m━━━━━━━━━━━━━━━━━━━\u001b[0m\u001b[37m━\u001b[0m \u001b[1m0s\u001b[0m 20ms/step - loss: 0.0023\n",
      "Epoch 46: val_loss did not improve from 0.00046\n",
      "\u001b[1m47/47\u001b[0m \u001b[32m━━━━━━━━━━━━━━━━━━━━\u001b[0m\u001b[37m\u001b[0m \u001b[1m1s\u001b[0m 23ms/step - loss: 0.0023 - val_loss: 7.1855e-04\n",
      "Epoch 47/100\n",
      "\u001b[1m47/47\u001b[0m \u001b[32m━━━━━━━━━━━━━━━━━━━━\u001b[0m\u001b[37m\u001b[0m \u001b[1m0s\u001b[0m 24ms/step - loss: 0.0028\n",
      "Epoch 47: val_loss did not improve from 0.00046\n",
      "\u001b[1m47/47\u001b[0m \u001b[32m━━━━━━━━━━━━━━━━━━━━\u001b[0m\u001b[37m\u001b[0m \u001b[1m1s\u001b[0m 27ms/step - loss: 0.0027 - val_loss: 0.0016\n",
      "Epoch 48/100\n",
      "\u001b[1m45/47\u001b[0m \u001b[32m━━━━━━━━━━━━━━━━━━━\u001b[0m\u001b[37m━\u001b[0m \u001b[1m0s\u001b[0m 31ms/step - loss: 0.0031\n",
      "Epoch 48: val_loss did not improve from 0.00046\n",
      "\u001b[1m47/47\u001b[0m \u001b[32m━━━━━━━━━━━━━━━━━━━━\u001b[0m\u001b[37m\u001b[0m \u001b[1m2s\u001b[0m 33ms/step - loss: 0.0031 - val_loss: 5.6276e-04\n",
      "Epoch 49/100\n",
      "\u001b[1m45/47\u001b[0m \u001b[32m━━━━━━━━━━━━━━━━━━━\u001b[0m\u001b[37m━\u001b[0m \u001b[1m0s\u001b[0m 20ms/step - loss: 0.0026\n",
      "Epoch 49: val_loss improved from 0.00046 to 0.00044, saving model to model_checkpoints/weight_lstm_model.weights.h5\n",
      "\u001b[1m47/47\u001b[0m \u001b[32m━━━━━━━━━━━━━━━━━━━━\u001b[0m\u001b[37m\u001b[0m \u001b[1m1s\u001b[0m 28ms/step - loss: 0.0025 - val_loss: 4.3732e-04\n",
      "Epoch 50/100\n",
      "\u001b[1m45/47\u001b[0m \u001b[32m━━━━━━━━━━━━━━━━━━━\u001b[0m\u001b[37m━\u001b[0m \u001b[1m0s\u001b[0m 22ms/step - loss: 0.0023\n",
      "Epoch 50: val_loss did not improve from 0.00044\n",
      "\u001b[1m47/47\u001b[0m \u001b[32m━━━━━━━━━━━━━━━━━━━━\u001b[0m\u001b[37m\u001b[0m \u001b[1m1s\u001b[0m 24ms/step - loss: 0.0023 - val_loss: 4.5411e-04\n",
      "Epoch 51/100\n",
      "\u001b[1m46/47\u001b[0m \u001b[32m━━━━━━━━━━━━━━━━━━━\u001b[0m\u001b[37m━\u001b[0m \u001b[1m0s\u001b[0m 19ms/step - loss: 0.0023\n",
      "Epoch 51: val_loss improved from 0.00044 to 0.00043, saving model to model_checkpoints/weight_lstm_model.weights.h5\n",
      "\u001b[1m47/47\u001b[0m \u001b[32m━━━━━━━━━━━━━━━━━━━━\u001b[0m\u001b[37m\u001b[0m \u001b[1m1s\u001b[0m 26ms/step - loss: 0.0023 - val_loss: 4.2707e-04\n",
      "Epoch 52/100\n",
      "\u001b[1m45/47\u001b[0m \u001b[32m━━━━━━━━━━━━━━━━━━━\u001b[0m\u001b[37m━\u001b[0m \u001b[1m0s\u001b[0m 19ms/step - loss: 0.0021\n",
      "Epoch 52: val_loss did not improve from 0.00043\n",
      "\u001b[1m47/47\u001b[0m \u001b[32m━━━━━━━━━━━━━━━━━━━━\u001b[0m\u001b[37m\u001b[0m \u001b[1m1s\u001b[0m 21ms/step - loss: 0.0021 - val_loss: 7.3925e-04\n",
      "Epoch 53/100\n",
      "\u001b[1m46/47\u001b[0m \u001b[32m━━━━━━━━━━━━━━━━━━━\u001b[0m\u001b[37m━\u001b[0m \u001b[1m0s\u001b[0m 22ms/step - loss: 0.0022\n",
      "Epoch 53: val_loss did not improve from 0.00043\n",
      "\u001b[1m47/47\u001b[0m \u001b[32m━━━━━━━━━━━━━━━━━━━━\u001b[0m\u001b[37m\u001b[0m \u001b[1m1s\u001b[0m 24ms/step - loss: 0.0022 - val_loss: 4.7617e-04\n",
      "Epoch 54/100\n",
      "\u001b[1m46/47\u001b[0m \u001b[32m━━━━━━━━━━━━━━━━━━━\u001b[0m\u001b[37m━\u001b[0m \u001b[1m0s\u001b[0m 20ms/step - loss: 0.0019\n",
      "Epoch 54: val_loss did not improve from 0.00043\n",
      "\u001b[1m47/47\u001b[0m \u001b[32m━━━━━━━━━━━━━━━━━━━━\u001b[0m\u001b[37m\u001b[0m \u001b[1m1s\u001b[0m 22ms/step - loss: 0.0019 - val_loss: 5.6211e-04\n",
      "Epoch 55/100\n",
      "\u001b[1m46/47\u001b[0m \u001b[32m━━━━━━━━━━━━━━━━━━━\u001b[0m\u001b[37m━\u001b[0m \u001b[1m0s\u001b[0m 19ms/step - loss: 0.0021\n",
      "Epoch 55: val_loss improved from 0.00043 to 0.00040, saving model to model_checkpoints/weight_lstm_model.weights.h5\n",
      "\u001b[1m47/47\u001b[0m \u001b[32m━━━━━━━━━━━━━━━━━━━━\u001b[0m\u001b[37m\u001b[0m \u001b[1m1s\u001b[0m 26ms/step - loss: 0.0021 - val_loss: 3.9681e-04\n",
      "Epoch 56/100\n",
      "\u001b[1m45/47\u001b[0m \u001b[32m━━━━━━━━━━━━━━━━━━━\u001b[0m\u001b[37m━\u001b[0m \u001b[1m0s\u001b[0m 21ms/step - loss: 0.0021\n",
      "Epoch 56: val_loss did not improve from 0.00040\n",
      "\u001b[1m47/47\u001b[0m \u001b[32m━━━━━━━━━━━━━━━━━━━━\u001b[0m\u001b[37m\u001b[0m \u001b[1m1s\u001b[0m 23ms/step - loss: 0.0021 - val_loss: 8.8261e-04\n",
      "Epoch 57/100\n",
      "\u001b[1m46/47\u001b[0m \u001b[32m━━━━━━━━━━━━━━━━━━━\u001b[0m\u001b[37m━\u001b[0m \u001b[1m0s\u001b[0m 19ms/step - loss: 0.0021\n",
      "Epoch 57: val_loss did not improve from 0.00040\n",
      "\u001b[1m47/47\u001b[0m \u001b[32m━━━━━━━━━━━━━━━━━━━━\u001b[0m\u001b[37m\u001b[0m \u001b[1m1s\u001b[0m 21ms/step - loss: 0.0021 - val_loss: 4.0492e-04\n",
      "Epoch 58/100\n",
      "\u001b[1m46/47\u001b[0m \u001b[32m━━━━━━━━━━━━━━━━━━━\u001b[0m\u001b[37m━\u001b[0m \u001b[1m0s\u001b[0m 19ms/step - loss: 0.0019\n",
      "Epoch 58: val_loss did not improve from 0.00040\n",
      "\u001b[1m47/47\u001b[0m \u001b[32m━━━━━━━━━━━━━━━━━━━━\u001b[0m\u001b[37m\u001b[0m \u001b[1m1s\u001b[0m 21ms/step - loss: 0.0019 - val_loss: 0.0011\n",
      "Epoch 59/100\n",
      "\u001b[1m47/47\u001b[0m \u001b[32m━━━━━━━━━━━━━━━━━━━━\u001b[0m\u001b[37m\u001b[0m \u001b[1m0s\u001b[0m 22ms/step - loss: 0.0020\n",
      "Epoch 59: val_loss did not improve from 0.00040\n",
      "\u001b[1m47/47\u001b[0m \u001b[32m━━━━━━━━━━━━━━━━━━━━\u001b[0m\u001b[37m\u001b[0m \u001b[1m1s\u001b[0m 24ms/step - loss: 0.0020 - val_loss: 4.0877e-04\n",
      "Epoch 60/100\n",
      "\u001b[1m46/47\u001b[0m \u001b[32m━━━━━━━━━━━━━━━━━━━\u001b[0m\u001b[37m━\u001b[0m \u001b[1m0s\u001b[0m 19ms/step - loss: 0.0023\n",
      "Epoch 60: val_loss did not improve from 0.00040\n",
      "\u001b[1m47/47\u001b[0m \u001b[32m━━━━━━━━━━━━━━━━━━━━\u001b[0m\u001b[37m\u001b[0m \u001b[1m1s\u001b[0m 21ms/step - loss: 0.0023 - val_loss: 4.1081e-04\n",
      "Epoch 61/100\n",
      "\u001b[1m46/47\u001b[0m \u001b[32m━━━━━━━━━━━━━━━━━━━\u001b[0m\u001b[37m━\u001b[0m \u001b[1m0s\u001b[0m 19ms/step - loss: 0.0021\n",
      "Epoch 61: val_loss did not improve from 0.00040\n",
      "\u001b[1m47/47\u001b[0m \u001b[32m━━━━━━━━━━━━━━━━━━━━\u001b[0m\u001b[37m\u001b[0m \u001b[1m1s\u001b[0m 21ms/step - loss: 0.0021 - val_loss: 4.9644e-04\n",
      "Epoch 62/100\n",
      "\u001b[1m46/47\u001b[0m \u001b[32m━━━━━━━━━━━━━━━━━━━\u001b[0m\u001b[37m━\u001b[0m \u001b[1m0s\u001b[0m 20ms/step - loss: 0.0024\n",
      "Epoch 62: val_loss did not improve from 0.00040\n",
      "\u001b[1m47/47\u001b[0m \u001b[32m━━━━━━━━━━━━━━━━━━━━\u001b[0m\u001b[37m\u001b[0m \u001b[1m1s\u001b[0m 22ms/step - loss: 0.0024 - val_loss: 5.1600e-04\n",
      "Epoch 63/100\n",
      "\u001b[1m47/47\u001b[0m \u001b[32m━━━━━━━━━━━━━━━━━━━━\u001b[0m\u001b[37m\u001b[0m \u001b[1m0s\u001b[0m 20ms/step - loss: 0.0020\n",
      "Epoch 63: val_loss did not improve from 0.00040\n",
      "\u001b[1m47/47\u001b[0m \u001b[32m━━━━━━━━━━━━━━━━━━━━\u001b[0m\u001b[37m\u001b[0m \u001b[1m1s\u001b[0m 22ms/step - loss: 0.0020 - val_loss: 4.8281e-04\n",
      "Epoch 64/100\n",
      "\u001b[1m47/47\u001b[0m \u001b[32m━━━━━━━━━━━━━━━━━━━━\u001b[0m\u001b[37m\u001b[0m \u001b[1m0s\u001b[0m 20ms/step - loss: 0.0021\n",
      "Epoch 64: val_loss did not improve from 0.00040\n",
      "\u001b[1m47/47\u001b[0m \u001b[32m━━━━━━━━━━━━━━━━━━━━\u001b[0m\u001b[37m\u001b[0m \u001b[1m1s\u001b[0m 23ms/step - loss: 0.0021 - val_loss: 4.1545e-04\n",
      "Epoch 65/100\n",
      "\u001b[1m46/47\u001b[0m \u001b[32m━━━━━━━━━━━━━━━━━━━\u001b[0m\u001b[37m━\u001b[0m \u001b[1m0s\u001b[0m 18ms/step - loss: 0.0021\n",
      "Epoch 65: val_loss did not improve from 0.00040\n",
      "\u001b[1m47/47\u001b[0m \u001b[32m━━━━━━━━━━━━━━━━━━━━\u001b[0m\u001b[37m\u001b[0m \u001b[1m1s\u001b[0m 21ms/step - loss: 0.0021 - val_loss: 4.2514e-04\n",
      "Epoch 66/100\n",
      "\u001b[1m46/47\u001b[0m \u001b[32m━━━━━━━━━━━━━━━━━━━\u001b[0m\u001b[37m━\u001b[0m \u001b[1m0s\u001b[0m 19ms/step - loss: 0.0018\n",
      "Epoch 66: val_loss did not improve from 0.00040\n",
      "\u001b[1m47/47\u001b[0m \u001b[32m━━━━━━━━━━━━━━━━━━━━\u001b[0m\u001b[37m\u001b[0m \u001b[1m1s\u001b[0m 21ms/step - loss: 0.0018 - val_loss: 6.6086e-04\n",
      "Epoch 67/100\n",
      "\u001b[1m45/47\u001b[0m \u001b[32m━━━━━━━━━━━━━━━━━━━\u001b[0m\u001b[37m━\u001b[0m \u001b[1m0s\u001b[0m 21ms/step - loss: 0.0020\n",
      "Epoch 67: val_loss did not improve from 0.00040\n",
      "\u001b[1m47/47\u001b[0m \u001b[32m━━━━━━━━━━━━━━━━━━━━\u001b[0m\u001b[37m\u001b[0m \u001b[1m1s\u001b[0m 23ms/step - loss: 0.0019 - val_loss: 4.8449e-04\n",
      "Epoch 68/100\n",
      "\u001b[1m45/47\u001b[0m \u001b[32m━━━━━━━━━━━━━━━━━━━\u001b[0m\u001b[37m━\u001b[0m \u001b[1m0s\u001b[0m 19ms/step - loss: 0.0017\n",
      "Epoch 68: val_loss did not improve from 0.00040\n",
      "\u001b[1m47/47\u001b[0m \u001b[32m━━━━━━━━━━━━━━━━━━━━\u001b[0m\u001b[37m\u001b[0m \u001b[1m1s\u001b[0m 21ms/step - loss: 0.0018 - val_loss: 4.1117e-04\n",
      "Epoch 69/100\n",
      "\u001b[1m46/47\u001b[0m \u001b[32m━━━━━━━━━━━━━━━━━━━\u001b[0m\u001b[37m━\u001b[0m \u001b[1m0s\u001b[0m 22ms/step - loss: 0.0020\n",
      "Epoch 69: val_loss did not improve from 0.00040\n",
      "\u001b[1m47/47\u001b[0m \u001b[32m━━━━━━━━━━━━━━━━━━━━\u001b[0m\u001b[37m\u001b[0m \u001b[1m1s\u001b[0m 24ms/step - loss: 0.0020 - val_loss: 4.5174e-04\n",
      "Epoch 70/100\n",
      "\u001b[1m46/47\u001b[0m \u001b[32m━━━━━━━━━━━━━━━━━━━\u001b[0m\u001b[37m━\u001b[0m \u001b[1m0s\u001b[0m 22ms/step - loss: 0.0021\n",
      "Epoch 70: val_loss did not improve from 0.00040\n",
      "\u001b[1m47/47\u001b[0m \u001b[32m━━━━━━━━━━━━━━━━━━━━\u001b[0m\u001b[37m\u001b[0m \u001b[1m1s\u001b[0m 24ms/step - loss: 0.0021 - val_loss: 6.0607e-04\n",
      "Epoch 71/100\n",
      "\u001b[1m46/47\u001b[0m \u001b[32m━━━━━━━━━━━━━━━━━━━\u001b[0m\u001b[37m━\u001b[0m \u001b[1m0s\u001b[0m 18ms/step - loss: 0.0018\n",
      "Epoch 71: val_loss did not improve from 0.00040\n",
      "\u001b[1m47/47\u001b[0m \u001b[32m━━━━━━━━━━━━━━━━━━━━\u001b[0m\u001b[37m\u001b[0m \u001b[1m1s\u001b[0m 21ms/step - loss: 0.0018 - val_loss: 6.4114e-04\n",
      "Epoch 72/100\n",
      "\u001b[1m47/47\u001b[0m \u001b[32m━━━━━━━━━━━━━━━━━━━━\u001b[0m\u001b[37m\u001b[0m \u001b[1m0s\u001b[0m 21ms/step - loss: 0.0019\n",
      "Epoch 72: val_loss improved from 0.00040 to 0.00036, saving model to model_checkpoints/weight_lstm_model.weights.h5\n",
      "\u001b[1m47/47\u001b[0m \u001b[32m━━━━━━━━━━━━━━━━━━━━\u001b[0m\u001b[37m\u001b[0m \u001b[1m1s\u001b[0m 30ms/step - loss: 0.0019 - val_loss: 3.5573e-04\n",
      "Epoch 73/100\n",
      "\u001b[1m45/47\u001b[0m \u001b[32m━━━━━━━━━━━━━━━━━━━\u001b[0m\u001b[37m━\u001b[0m \u001b[1m0s\u001b[0m 21ms/step - loss: 0.0018\n",
      "Epoch 73: val_loss did not improve from 0.00036\n",
      "\u001b[1m47/47\u001b[0m \u001b[32m━━━━━━━━━━━━━━━━━━━━\u001b[0m\u001b[37m\u001b[0m \u001b[1m2s\u001b[0m 24ms/step - loss: 0.0018 - val_loss: 4.4294e-04\n",
      "Epoch 74/100\n",
      "\u001b[1m45/47\u001b[0m \u001b[32m━━━━━━━━━━━━━━━━━━━\u001b[0m\u001b[37m━\u001b[0m \u001b[1m0s\u001b[0m 29ms/step - loss: 0.0018\n",
      "Epoch 74: val_loss did not improve from 0.00036\n",
      "\u001b[1m47/47\u001b[0m \u001b[32m━━━━━━━━━━━━━━━━━━━━\u001b[0m\u001b[37m\u001b[0m \u001b[1m2s\u001b[0m 31ms/step - loss: 0.0018 - val_loss: 0.0011\n",
      "Epoch 75/100\n",
      "\u001b[1m47/47\u001b[0m \u001b[32m━━━━━━━━━━━━━━━━━━━━\u001b[0m\u001b[37m\u001b[0m \u001b[1m0s\u001b[0m 20ms/step - loss: 0.0020\n",
      "Epoch 75: val_loss did not improve from 0.00036\n",
      "\u001b[1m47/47\u001b[0m \u001b[32m━━━━━━━━━━━━━━━━━━━━\u001b[0m\u001b[37m\u001b[0m \u001b[1m1s\u001b[0m 25ms/step - loss: 0.0020 - val_loss: 4.2709e-04\n",
      "Epoch 76/100\n",
      "\u001b[1m47/47\u001b[0m \u001b[32m━━━━━━━━━━━━━━━━━━━━\u001b[0m\u001b[37m\u001b[0m \u001b[1m0s\u001b[0m 22ms/step - loss: 0.0017\n",
      "Epoch 76: val_loss improved from 0.00036 to 0.00034, saving model to model_checkpoints/weight_lstm_model.weights.h5\n",
      "\u001b[1m47/47\u001b[0m \u001b[32m━━━━━━━━━━━━━━━━━━━━\u001b[0m\u001b[37m\u001b[0m \u001b[1m1s\u001b[0m 30ms/step - loss: 0.0018 - val_loss: 3.4283e-04\n",
      "Epoch 77/100\n",
      "\u001b[1m45/47\u001b[0m \u001b[32m━━━━━━━━━━━━━━━━━━━\u001b[0m\u001b[37m━\u001b[0m \u001b[1m0s\u001b[0m 22ms/step - loss: 0.0018\n",
      "Epoch 77: val_loss did not improve from 0.00034\n",
      "\u001b[1m47/47\u001b[0m \u001b[32m━━━━━━━━━━━━━━━━━━━━\u001b[0m\u001b[37m\u001b[0m \u001b[1m1s\u001b[0m 24ms/step - loss: 0.0018 - val_loss: 3.6273e-04\n",
      "Epoch 78/100\n",
      "\u001b[1m46/47\u001b[0m \u001b[32m━━━━━━━━━━━━━━━━━━━\u001b[0m\u001b[37m━\u001b[0m \u001b[1m0s\u001b[0m 21ms/step - loss: 0.0018\n",
      "Epoch 78: val_loss did not improve from 0.00034\n",
      "\u001b[1m47/47\u001b[0m \u001b[32m━━━━━━━━━━━━━━━━━━━━\u001b[0m\u001b[37m\u001b[0m \u001b[1m1s\u001b[0m 24ms/step - loss: 0.0018 - val_loss: 5.6336e-04\n",
      "Epoch 79/100\n",
      "\u001b[1m47/47\u001b[0m \u001b[32m━━━━━━━━━━━━━━━━━━━━\u001b[0m\u001b[37m\u001b[0m \u001b[1m0s\u001b[0m 22ms/step - loss: 0.0019\n",
      "Epoch 79: val_loss did not improve from 0.00034\n",
      "\u001b[1m47/47\u001b[0m \u001b[32m━━━━━━━━━━━━━━━━━━━━\u001b[0m\u001b[37m\u001b[0m \u001b[1m1s\u001b[0m 25ms/step - loss: 0.0019 - val_loss: 3.8164e-04\n",
      "Epoch 80/100\n",
      "\u001b[1m47/47\u001b[0m \u001b[32m━━━━━━━━━━━━━━━━━━━━\u001b[0m\u001b[37m\u001b[0m \u001b[1m0s\u001b[0m 26ms/step - loss: 0.0014\n",
      "Epoch 80: val_loss improved from 0.00034 to 0.00033, saving model to model_checkpoints/weight_lstm_model.weights.h5\n",
      "\u001b[1m47/47\u001b[0m \u001b[32m━━━━━━━━━━━━━━━━━━━━\u001b[0m\u001b[37m\u001b[0m \u001b[1m2s\u001b[0m 34ms/step - loss: 0.0014 - val_loss: 3.2904e-04\n",
      "Epoch 81/100\n",
      "\u001b[1m47/47\u001b[0m \u001b[32m━━━━━━━━━━━━━━━━━━━━\u001b[0m\u001b[37m\u001b[0m \u001b[1m0s\u001b[0m 21ms/step - loss: 0.0015\n",
      "Epoch 81: val_loss did not improve from 0.00033\n",
      "\u001b[1m47/47\u001b[0m \u001b[32m━━━━━━━━━━━━━━━━━━━━\u001b[0m\u001b[37m\u001b[0m \u001b[1m1s\u001b[0m 26ms/step - loss: 0.0015 - val_loss: 3.3818e-04\n",
      "Epoch 82/100\n",
      "\u001b[1m45/47\u001b[0m \u001b[32m━━━━━━━━━━━━━━━━━━━\u001b[0m\u001b[37m━\u001b[0m \u001b[1m0s\u001b[0m 21ms/step - loss: 0.0017\n",
      "Epoch 82: val_loss did not improve from 0.00033\n",
      "\u001b[1m47/47\u001b[0m \u001b[32m━━━━━━━━━━━━━━━━━━━━\u001b[0m\u001b[37m\u001b[0m \u001b[1m3s\u001b[0m 24ms/step - loss: 0.0017 - val_loss: 4.8753e-04\n",
      "Epoch 83/100\n",
      "\u001b[1m45/47\u001b[0m \u001b[32m━━━━━━━━━━━━━━━━━━━\u001b[0m\u001b[37m━\u001b[0m \u001b[1m0s\u001b[0m 21ms/step - loss: 0.0017\n",
      "Epoch 83: val_loss did not improve from 0.00033\n",
      "\u001b[1m47/47\u001b[0m \u001b[32m━━━━━━━━━━━━━━━━━━━━\u001b[0m\u001b[37m\u001b[0m \u001b[1m1s\u001b[0m 23ms/step - loss: 0.0017 - val_loss: 6.3698e-04\n",
      "Epoch 84/100\n",
      "\u001b[1m46/47\u001b[0m \u001b[32m━━━━━━━━━━━━━━━━━━━\u001b[0m\u001b[37m━\u001b[0m \u001b[1m0s\u001b[0m 19ms/step - loss: 0.0015\n",
      "Epoch 84: val_loss did not improve from 0.00033\n",
      "\u001b[1m47/47\u001b[0m \u001b[32m━━━━━━━━━━━━━━━━━━━━\u001b[0m\u001b[37m\u001b[0m \u001b[1m1s\u001b[0m 21ms/step - loss: 0.0015 - val_loss: 4.2720e-04\n",
      "Epoch 85/100\n",
      "\u001b[1m46/47\u001b[0m \u001b[32m━━━━━━━━━━━━━━━━━━━\u001b[0m\u001b[37m━\u001b[0m \u001b[1m0s\u001b[0m 19ms/step - loss: 0.0016\n",
      "Epoch 85: val_loss improved from 0.00033 to 0.00032, saving model to model_checkpoints/weight_lstm_model.weights.h5\n",
      "\u001b[1m47/47\u001b[0m \u001b[32m━━━━━━━━━━━━━━━━━━━━\u001b[0m\u001b[37m\u001b[0m \u001b[1m1s\u001b[0m 27ms/step - loss: 0.0016 - val_loss: 3.2116e-04\n",
      "Epoch 86/100\n",
      "\u001b[1m46/47\u001b[0m \u001b[32m━━━━━━━━━━━━━━━━━━━\u001b[0m\u001b[37m━\u001b[0m \u001b[1m0s\u001b[0m 21ms/step - loss: 0.0016\n",
      "Epoch 86: val_loss did not improve from 0.00032\n",
      "\u001b[1m47/47\u001b[0m \u001b[32m━━━━━━━━━━━━━━━━━━━━\u001b[0m\u001b[37m\u001b[0m \u001b[1m1s\u001b[0m 23ms/step - loss: 0.0016 - val_loss: 4.6050e-04\n",
      "Epoch 87/100\n",
      "\u001b[1m47/47\u001b[0m \u001b[32m━━━━━━━━━━━━━━━━━━━━\u001b[0m\u001b[37m\u001b[0m \u001b[1m0s\u001b[0m 20ms/step - loss: 0.0015\n",
      "Epoch 87: val_loss did not improve from 0.00032\n",
      "\u001b[1m47/47\u001b[0m \u001b[32m━━━━━━━━━━━━━━━━━━━━\u001b[0m\u001b[37m\u001b[0m \u001b[1m1s\u001b[0m 22ms/step - loss: 0.0015 - val_loss: 4.3931e-04\n",
      "Epoch 88/100\n",
      "\u001b[1m46/47\u001b[0m \u001b[32m━━━━━━━━━━━━━━━━━━━\u001b[0m\u001b[37m━\u001b[0m \u001b[1m0s\u001b[0m 24ms/step - loss: 0.0015\n",
      "Epoch 88: val_loss did not improve from 0.00032\n",
      "\u001b[1m47/47\u001b[0m \u001b[32m━━━━━━━━━━━━━━━━━━━━\u001b[0m\u001b[37m\u001b[0m \u001b[1m1s\u001b[0m 27ms/step - loss: 0.0015 - val_loss: 3.5105e-04\n",
      "Epoch 89/100\n",
      "\u001b[1m47/47\u001b[0m \u001b[32m━━━━━━━━━━━━━━━━━━━━\u001b[0m\u001b[37m\u001b[0m \u001b[1m0s\u001b[0m 22ms/step - loss: 0.0014\n",
      "Epoch 89: val_loss did not improve from 0.00032\n",
      "\u001b[1m47/47\u001b[0m \u001b[32m━━━━━━━━━━━━━━━━━━━━\u001b[0m\u001b[37m\u001b[0m \u001b[1m1s\u001b[0m 25ms/step - loss: 0.0014 - val_loss: 4.9068e-04\n",
      "Epoch 90/100\n",
      "\u001b[1m46/47\u001b[0m \u001b[32m━━━━━━━━━━━━━━━━━━━\u001b[0m\u001b[37m━\u001b[0m \u001b[1m0s\u001b[0m 23ms/step - loss: 0.0016\n",
      "Epoch 90: val_loss did not improve from 0.00032\n",
      "\u001b[1m47/47\u001b[0m \u001b[32m━━━━━━━━━━━━━━━━━━━━\u001b[0m\u001b[37m\u001b[0m \u001b[1m1s\u001b[0m 25ms/step - loss: 0.0016 - val_loss: 3.4264e-04\n",
      "Epoch 91/100\n",
      "\u001b[1m46/47\u001b[0m \u001b[32m━━━━━━━━━━━━━━━━━━━\u001b[0m\u001b[37m━\u001b[0m \u001b[1m0s\u001b[0m 20ms/step - loss: 0.0015\n",
      "Epoch 91: val_loss did not improve from 0.00032\n",
      "\u001b[1m47/47\u001b[0m \u001b[32m━━━━━━━━━━━━━━━━━━━━\u001b[0m\u001b[37m\u001b[0m \u001b[1m1s\u001b[0m 23ms/step - loss: 0.0015 - val_loss: 7.9316e-04\n",
      "Epoch 92/100\n",
      "\u001b[1m45/47\u001b[0m \u001b[32m━━━━━━━━━━━━━━━━━━━\u001b[0m\u001b[37m━\u001b[0m \u001b[1m0s\u001b[0m 23ms/step - loss: 0.0014\n",
      "Epoch 92: val_loss did not improve from 0.00032\n",
      "\u001b[1m47/47\u001b[0m \u001b[32m━━━━━━━━━━━━━━━━━━━━\u001b[0m\u001b[37m\u001b[0m \u001b[1m1s\u001b[0m 26ms/step - loss: 0.0014 - val_loss: 6.7271e-04\n",
      "Epoch 93/100\n",
      "\u001b[1m47/47\u001b[0m \u001b[32m━━━━━━━━━━━━━━━━━━━━\u001b[0m\u001b[37m\u001b[0m \u001b[1m0s\u001b[0m 21ms/step - loss: 0.0017\n",
      "Epoch 93: val_loss improved from 0.00032 to 0.00032, saving model to model_checkpoints/weight_lstm_model.weights.h5\n",
      "\u001b[1m47/47\u001b[0m \u001b[32m━━━━━━━━━━━━━━━━━━━━\u001b[0m\u001b[37m\u001b[0m \u001b[1m1s\u001b[0m 31ms/step - loss: 0.0017 - val_loss: 3.1793e-04\n",
      "Epoch 94/100\n",
      "\u001b[1m47/47\u001b[0m \u001b[32m━━━━━━━━━━━━━━━━━━━━\u001b[0m\u001b[37m\u001b[0m \u001b[1m0s\u001b[0m 23ms/step - loss: 0.0016\n",
      "Epoch 94: val_loss did not improve from 0.00032\n",
      "\u001b[1m47/47\u001b[0m \u001b[32m━━━━━━━━━━━━━━━━━━━━\u001b[0m\u001b[37m\u001b[0m \u001b[1m1s\u001b[0m 25ms/step - loss: 0.0016 - val_loss: 4.4417e-04\n",
      "Epoch 95/100\n",
      "\u001b[1m46/47\u001b[0m \u001b[32m━━━━━━━━━━━━━━━━━━━\u001b[0m\u001b[37m━\u001b[0m \u001b[1m0s\u001b[0m 19ms/step - loss: 0.0018\n",
      "Epoch 95: val_loss did not improve from 0.00032\n",
      "\u001b[1m47/47\u001b[0m \u001b[32m━━━━━━━━━━━━━━━━━━━━\u001b[0m\u001b[37m\u001b[0m \u001b[1m1s\u001b[0m 21ms/step - loss: 0.0018 - val_loss: 6.3473e-04\n",
      "Epoch 96/100\n",
      "\u001b[1m46/47\u001b[0m \u001b[32m━━━━━━━━━━━━━━━━━━━\u001b[0m\u001b[37m━\u001b[0m \u001b[1m0s\u001b[0m 19ms/step - loss: 0.0015\n",
      "Epoch 96: val_loss did not improve from 0.00032\n",
      "\u001b[1m47/47\u001b[0m \u001b[32m━━━━━━━━━━━━━━━━━━━━\u001b[0m\u001b[37m\u001b[0m \u001b[1m1s\u001b[0m 23ms/step - loss: 0.0015 - val_loss: 3.4111e-04\n",
      "Epoch 97/100\n",
      "\u001b[1m46/47\u001b[0m \u001b[32m━━━━━━━━━━━━━━━━━━━\u001b[0m\u001b[37m━\u001b[0m \u001b[1m0s\u001b[0m 19ms/step - loss: 0.0016\n",
      "Epoch 97: val_loss did not improve from 0.00032\n",
      "\u001b[1m47/47\u001b[0m \u001b[32m━━━━━━━━━━━━━━━━━━━━\u001b[0m\u001b[37m\u001b[0m \u001b[1m1s\u001b[0m 21ms/step - loss: 0.0016 - val_loss: 3.6746e-04\n",
      "Epoch 98/100\n",
      "\u001b[1m46/47\u001b[0m \u001b[32m━━━━━━━━━━━━━━━━━━━\u001b[0m\u001b[37m━\u001b[0m \u001b[1m0s\u001b[0m 19ms/step - loss: 0.0016\n",
      "Epoch 98: val_loss did not improve from 0.00032\n",
      "\u001b[1m47/47\u001b[0m \u001b[32m━━━━━━━━━━━━━━━━━━━━\u001b[0m\u001b[37m\u001b[0m \u001b[1m1s\u001b[0m 21ms/step - loss: 0.0016 - val_loss: 7.0319e-04\n",
      "Epoch 99/100\n",
      "\u001b[1m47/47\u001b[0m \u001b[32m━━━━━━━━━━━━━━━━━━━━\u001b[0m\u001b[37m\u001b[0m \u001b[1m0s\u001b[0m 20ms/step - loss: 0.0016\n",
      "Epoch 99: val_loss did not improve from 0.00032\n",
      "\u001b[1m47/47\u001b[0m \u001b[32m━━━━━━━━━━━━━━━━━━━━\u001b[0m\u001b[37m\u001b[0m \u001b[1m1s\u001b[0m 22ms/step - loss: 0.0016 - val_loss: 3.4347e-04\n",
      "Epoch 100/100\n",
      "\u001b[1m46/47\u001b[0m \u001b[32m━━━━━━━━━━━━━━━━━━━\u001b[0m\u001b[37m━\u001b[0m \u001b[1m0s\u001b[0m 19ms/step - loss: 0.0016\n",
      "Epoch 100: val_loss did not improve from 0.00032\n",
      "\u001b[1m47/47\u001b[0m \u001b[32m━━━━━━━━━━━━━━━━━━━━\u001b[0m\u001b[37m\u001b[0m \u001b[1m1s\u001b[0m 21ms/step - loss: 0.0016 - val_loss: 4.2837e-04\n"
     ]
    },
    {
     "data": {
      "text/plain": [
       "<keras.src.callbacks.history.History at 0x2310aa41df0>"
      ]
     },
     "execution_count": 118,
     "metadata": {},
     "output_type": "execute_result"
    }
   ],
   "source": [
    "history = model.fit(X_train, y_train, batch_size=16, epochs=100, validation_data=(X_val, y_val), callbacks=[checkpoint])\n",
    "history"
   ]
  },
  {
   "cell_type": "markdown",
   "metadata": {},
   "source": [
    "#### Evaluasi Model Selama Training"
   ]
  },
  {
   "cell_type": "code",
   "execution_count": 119,
   "metadata": {},
   "outputs": [
    {
     "data": {
      "image/png": "[encoded data removed]",
      "text/plain": [
       "<Figure size 600x300 with 1 Axes>"
      ]
     },
     "metadata": {},
     "output_type": "display_data"
    }
   ],
   "source": [
    "plt.figure(figsize=(6,3))\n",
    "plt.title('Model Loss')\n",
    "plt.plot(history.history['loss'], linewidth=2)\n",
    "plt.plot(history.history['val_loss'], linewidth=2)\n",
    "plt.ylabel('loss')\n",
    "plt.xlabel('epoch')\n",
    "plt.legend(['train', 'valid'])\n",
    "plt.show()"
   ]
  },
  {
   "cell_type": "markdown",
   "metadata": {},
   "source": [
    "Insight:\n",
    "\n",
    "Grafik yang ditampilkan menunjukkan tren penurunan model loss selama proses pelatihan model pembelajaran mesin, dengan dua garis yang mewakili train loss dan valid loss. Pada awal pelatihan, train loss dimulai dengan nilai yang cukup tinggi, sekitar 0,05, namun dengan cepat menurun drastis setelah beberapa epoch pertama. Setelah sekitar 20 epoch, train loss stabil dan terus menurun perlahan menuju nol. Di sisi lain, valid loss dimulai dari nilai yang lebih rendah dibandingkan train loss dan tetap relatif stabil sepanjang pelatihan, dengan sedikit fluktuasi, bergerak mendekati nol dengan kecepatan yang lebih lambat. Penurunan loss yang konsisten pada kedua garis menunjukkan bahwa model secara efektif meminimalkan kesalahan baik pada data pelatihan maupun data validasi. Stabilitas valid loss mengindikasikan bahwa model tidak mengalami overfitting yang signifikan, karena performanya pada data validasi tetap konsisten. Perbedaan yang kecil antara train loss dan valid loss menunjukkan bahwa model memiliki kemampuan generalisasi yang baik terhadap data baru. Secara keseluruhan, grafik ini mengindikasikan bahwa model belajar dengan baik dan mempertahankan performa yang memadai pada data validasi."
   ]
  },
  {
   "cell_type": "code",
   "execution_count": 120,
   "metadata": {},
   "outputs": [
    {
     "data": {
      "text/plain": [
       "array([[0.58128079],\n",
       "       [0.57776214],\n",
       "       [0.57776214],\n",
       "       [0.57776214],\n",
       "       [0.57248417],\n",
       "       [0.57248417],\n",
       "       [0.57248417],\n",
       "       [0.57600281],\n",
       "       [0.57072484],\n",
       "       [0.56720619],\n",
       "       [0.57600281],\n",
       "       [0.59535538],\n",
       "       [0.58479944],\n",
       "       [0.58479944],\n",
       "       [0.58831809],\n",
       "       [0.59535538],\n",
       "       [0.58479944],\n",
       "       [0.58479944],\n",
       "       [0.57776214],\n",
       "       [0.57776214],\n",
       "       [0.58128079],\n",
       "       [0.57776214],\n",
       "       [0.56720619],\n",
       "       [0.56368754],\n",
       "       [0.56368754],\n",
       "       [0.56192822],\n",
       "       [0.56544687],\n",
       "       [0.57952146],\n",
       "       [0.57776214],\n",
       "       [0.57952146],\n",
       "       [0.57952146],\n",
       "       [0.57952146],\n",
       "       [0.57776214],\n",
       "       [0.56544687],\n",
       "       [0.56368754],\n",
       "       [0.56368754],\n",
       "       [0.56192822],\n",
       "       [0.56544687],\n",
       "       [0.56192822],\n",
       "       [0.56544687],\n",
       "       [0.56192822],\n",
       "       [0.55137227],\n",
       "       [0.5460943 ],\n",
       "       [0.5460943 ],\n",
       "       [0.52674173],\n",
       "       [0.52498241],\n",
       "       [0.5320197 ],\n",
       "       [0.52322308],\n",
       "       [0.52850106],\n",
       "       [0.52850106],\n",
       "       [0.52498241],\n",
       "       [0.51794511],\n",
       "       [0.51618578],\n",
       "       [0.51266714],\n",
       "       [0.49859254],\n",
       "       [0.48979592],\n",
       "       [0.47748065],\n",
       "       [0.4809993 ],\n",
       "       [0.51442646],\n",
       "       [0.51618578],\n",
       "       [0.51618578],\n",
       "       [0.50211119],\n",
       "       [0.49507389],\n",
       "       [0.51266714],\n",
       "       [0.51442646],\n",
       "       [0.52850106],\n",
       "       [0.51618578],\n",
       "       [0.51970443],\n",
       "       [0.49331457],\n",
       "       [0.49859254],\n",
       "       [0.48627727],\n",
       "       [0.48627727],\n",
       "       [0.48451795],\n",
       "       [0.48451795],\n",
       "       [0.47748065],\n",
       "       [0.45812808],\n",
       "       [0.45812808],\n",
       "       [0.4598874 ],\n",
       "       [0.47572132],\n",
       "       [0.47220267],\n",
       "       [0.46164673],\n",
       "       [0.4598874 ],\n",
       "       [0.44933146],\n",
       "       [0.44757213],\n",
       "       [0.44757213],\n",
       "       [0.45460943],\n",
       "       [0.45812808],\n",
       "       [0.45285011],\n",
       "       [0.44405348],\n",
       "       [0.44757213],\n",
       "       [0.44229416],\n",
       "       [0.44053483],\n",
       "       [0.44229416],\n",
       "       [0.44757213],\n",
       "       [0.4598874 ],\n",
       "       [0.47572132],\n",
       "       [0.48979592],\n",
       "       [0.47748065],\n",
       "       [0.49331457],\n",
       "       [0.49155524],\n",
       "       [0.47572132],\n",
       "       [0.45285011],\n",
       "       [0.47044335],\n",
       "       [0.4598874 ],\n",
       "       [0.44933146],\n",
       "       [0.43877551],\n",
       "       [0.45460943],\n",
       "       [0.46516538],\n",
       "       [0.46340605],\n",
       "       [0.45460943],\n",
       "       [0.45285011],\n",
       "       [0.45285011],\n",
       "       [0.46340605],\n",
       "       [0.48803659],\n",
       "       [0.4809993 ],\n",
       "       [0.47748065],\n",
       "       [0.48803659],\n",
       "       [0.47572132],\n",
       "       [0.47044335],\n",
       "       [0.4669247 ],\n",
       "       [0.45812808],\n",
       "       [0.45636875],\n",
       "       [0.4598874 ],\n",
       "       [0.45285011],\n",
       "       [0.44933146],\n",
       "       [0.44229416],\n",
       "       [0.44229416],\n",
       "       [0.44229416],\n",
       "       [0.44757213],\n",
       "       [0.45636875],\n",
       "       [0.45636875],\n",
       "       [0.44405348],\n",
       "       [0.41766362],\n",
       "       [0.42470091],\n",
       "       [0.43173821],\n",
       "       [0.42821956],\n",
       "       [0.42821956],\n",
       "       [0.42294159],\n",
       "       [0.41766362],\n",
       "       [0.41414497],\n",
       "       [0.38423645],\n",
       "       [0.37895848],\n",
       "       [0.37368051],\n",
       "       [0.39303308],\n",
       "       [0.42118227],\n",
       "       [0.41942294],\n",
       "       [0.41590429],\n",
       "       [0.41062632],\n",
       "       [0.40710767],\n",
       "       [0.3947924 ],\n",
       "       [0.40534835],\n",
       "       [0.42294159],\n",
       "       [0.41062632],\n",
       "       [0.39831105],\n",
       "       [0.4018297 ],\n",
       "       [0.39127375],\n",
       "       [0.39831105],\n",
       "       [0.39127375],\n",
       "       [0.39127375],\n",
       "       [0.41414497],\n",
       "       [0.43173821],\n",
       "       [0.42821956],\n",
       "       [0.44757213],\n",
       "       [0.45636875],\n",
       "       [0.44581281],\n",
       "       [0.4598874 ],\n",
       "       [0.46164673],\n",
       "       [0.46164673],\n",
       "       [0.47572132],\n",
       "       [0.46516538],\n",
       "       [0.46164673],\n",
       "       [0.46340605],\n",
       "       [0.45285011],\n",
       "       [0.44053483],\n",
       "       [0.43349754],\n",
       "       [0.45460943],\n",
       "       [0.45636875],\n",
       "       [0.46164673],\n",
       "       [0.46516538],\n",
       "       [0.51442646],\n",
       "       [0.50914849],\n",
       "       [0.48451795],\n",
       "       [0.49683322],\n",
       "       [0.50035186],\n",
       "       [0.48979592],\n",
       "       [0.46868403],\n",
       "       [0.43701619],\n",
       "       [0.43877551],\n",
       "       [0.44581281],\n",
       "       [0.45460943],\n",
       "       [0.408867  ],\n",
       "       [0.4018297 ],\n",
       "       [0.41062632],\n",
       "       [0.40710767],\n",
       "       [0.41766362],\n",
       "       [0.41414497],\n",
       "       [0.41414497],\n",
       "       [0.42821956],\n",
       "       [0.42821956],\n",
       "       [0.44757213],\n",
       "       [0.4598874 ],\n",
       "       [0.42821956],\n",
       "       [0.41414497],\n",
       "       [0.40358902],\n",
       "       [0.41062632],\n",
       "       [0.41414497],\n",
       "       [0.4018297 ],\n",
       "       [0.39303308],\n",
       "       [0.3947924 ],\n",
       "       [0.38423645],\n",
       "       [0.34904996],\n",
       "       [0.34025334],\n",
       "       [0.33497537],\n",
       "       [0.31386348],\n",
       "       [0.31914145],\n",
       "       [0.32441942],\n",
       "       [0.31914145],\n",
       "       [0.30330753],\n",
       "       [0.30506685],\n",
       "       [0.30506685],\n",
       "       [0.31034483],\n",
       "       [0.31738213],\n",
       "       [0.3085855 ],\n",
       "       [0.30506685],\n",
       "       [0.31034483],\n",
       "       [0.31738213],\n",
       "       [0.33673469],\n",
       "       [0.33321605],\n",
       "       [0.34025334],\n",
       "       [0.34377199],\n",
       "       [0.33849402],\n",
       "       [0.35784659],\n",
       "       [0.35080929],\n",
       "       [0.35080929],\n",
       "       [0.35608726],\n",
       "       [0.35608726],\n",
       "       [0.35256861],\n",
       "       [0.34904996],\n",
       "       [0.36312456],\n",
       "       [0.36136524],\n",
       "       [0.35256861],\n",
       "       [0.34904996],\n",
       "       [0.34025334],\n",
       "       [0.33849402],\n",
       "       [0.32793807],\n",
       "       [0.33321605],\n",
       "       [0.33849402],\n",
       "       [0.33497537],\n",
       "       [0.34025334],\n",
       "       [0.35080929],\n",
       "       [0.35080929],\n",
       "       [0.3296974 ],\n",
       "       [0.33321605],\n",
       "       [0.33321605],\n",
       "       [0.32441942],\n",
       "       [0.3296974 ],\n",
       "       [0.33849402],\n",
       "       [0.33849402],\n",
       "       [0.33673469],\n",
       "       [0.36488388],\n",
       "       [0.39127375],\n",
       "       [0.3947924 ],\n",
       "       [0.39655172],\n",
       "       [0.3947924 ],\n",
       "       [0.38423645],\n",
       "       [0.3877551 ],\n",
       "       [0.39831105],\n",
       "       [0.3947924 ],\n",
       "       [0.3877551 ],\n",
       "       [0.37368051],\n",
       "       [0.36664321],\n",
       "       [0.36840253],\n",
       "       [0.36312456]])"
      ]
     },
     "execution_count": 120,
     "metadata": {},
     "output_type": "execute_result"
    }
   ],
   "source": [
    "test_data = data_sc[(-test_len - 30): , : ]\n",
    "x_test = []\n",
    "y_test = data[['Close']].iloc[-test_len : , :].values\n",
    "for i in range(30, len(test_data)):\n",
    "    x_test.append(test_data[i-30:i,0])\n",
    "\n",
    "test_data\n"
   ]
  },
  {
   "cell_type": "code",
   "execution_count": 121,
   "metadata": {},
   "outputs": [
    {
     "data": {
      "text/plain": [
       "array([[0.58128079, 0.57776214, 0.57776214, ..., 0.57952146, 0.57776214,\n",
       "        0.57952146],\n",
       "       [0.57776214, 0.57776214, 0.57776214, ..., 0.57776214, 0.57952146,\n",
       "        0.57952146],\n",
       "       [0.57776214, 0.57776214, 0.57248417, ..., 0.57952146, 0.57952146,\n",
       "        0.57952146],\n",
       "       ...,\n",
       "       [0.35256861, 0.34904996, 0.34025334, ..., 0.3947924 , 0.3877551 ,\n",
       "        0.37368051],\n",
       "       [0.34904996, 0.34025334, 0.33849402, ..., 0.3877551 , 0.37368051,\n",
       "        0.36664321],\n",
       "       [0.34025334, 0.33849402, 0.32793807, ..., 0.37368051, 0.36664321,\n",
       "        0.36840253]])"
      ]
     },
     "execution_count": 121,
     "metadata": {},
     "output_type": "execute_result"
    }
   ],
   "source": [
    "x_test = np.array(x_test)\n",
    "x_test"
   ]
  },
  {
   "cell_type": "code",
   "execution_count": 122,
   "metadata": {},
   "outputs": [
    {
     "data": {
      "text/plain": [
       "array([[[0.58128079],\n",
       "        [0.57776214],\n",
       "        [0.57776214],\n",
       "        ...,\n",
       "        [0.57952146],\n",
       "        [0.57776214],\n",
       "        [0.57952146]],\n",
       "\n",
       "       [[0.57776214],\n",
       "        [0.57776214],\n",
       "        [0.57776214],\n",
       "        ...,\n",
       "        [0.57776214],\n",
       "        [0.57952146],\n",
       "        [0.57952146]],\n",
       "\n",
       "       [[0.57776214],\n",
       "        [0.57776214],\n",
       "        [0.57248417],\n",
       "        ...,\n",
       "        [0.57952146],\n",
       "        [0.57952146],\n",
       "        [0.57952146]],\n",
       "\n",
       "       ...,\n",
       "\n",
       "       [[0.35256861],\n",
       "        [0.34904996],\n",
       "        [0.34025334],\n",
       "        ...,\n",
       "        [0.3947924 ],\n",
       "        [0.3877551 ],\n",
       "        [0.37368051]],\n",
       "\n",
       "       [[0.34904996],\n",
       "        [0.34025334],\n",
       "        [0.33849402],\n",
       "        ...,\n",
       "        [0.3877551 ],\n",
       "        [0.37368051],\n",
       "        [0.36664321]],\n",
       "\n",
       "       [[0.34025334],\n",
       "        [0.33849402],\n",
       "        [0.32793807],\n",
       "        ...,\n",
       "        [0.37368051],\n",
       "        [0.36664321],\n",
       "        [0.36840253]]])"
      ]
     },
     "execution_count": 122,
     "metadata": {},
     "output_type": "execute_result"
    }
   ],
   "source": [
    "x_test = np.reshape(x_test, (x_test.shape[0], x_test.shape[1],1))\n",
    "x_test"
   ]
  },
  {
   "cell_type": "code",
   "execution_count": 123,
   "metadata": {},
   "outputs": [],
   "source": [
    "model.load_weights(\"model_checkpoints/weight_lstm_model.weights.h5\")"
   ]
  },
  {
   "cell_type": "code",
   "execution_count": 124,
   "metadata": {},
   "outputs": [
    {
     "name": "stdout",
     "output_type": "stream",
     "text": [
      "WARNING:tensorflow:5 out of the last 17 calls to <function TensorFlowTrainer.make_predict_function.<locals>.one_step_on_data_distributed at 0x000002310EC3F040> triggered tf.function retracing. Tracing is expensive and the excessive number of tracings could be due to (1) creating @tf.function repeatedly in a loop, (2) passing tensors with different shapes, (3) passing Python objects instead of tensors. For (1), please define your @tf.function outside of the loop. For (2), @tf.function has reduce_retracing=True option that can avoid unnecessary retracing. For (3), please refer to https://www.tensorflow.org/guide/function#controlling_retracing and https://www.tensorflow.org/api_docs/python/tf/function for  more details.\n",
      "\u001b[1m8/8\u001b[0m \u001b[32m━━━━━━━━━━━━━━━━━━━━\u001b[0m\u001b[37m\u001b[0m \u001b[1m1s\u001b[0m 53ms/step\n"
     ]
    }
   ],
   "source": [
    "y_pred = model.predict(x_test)\n",
    "y_pred = np.ceil(sc.inverse_transform(y_pred))"
   ]
  },
  {
   "cell_type": "markdown",
   "metadata": {},
   "source": [
    "#### Evaluasi Akhir Model"
   ]
  },
  {
   "cell_type": "markdown",
   "metadata": {},
   "source": [
    "- **RMSE**\n",
    "\n",
    "Root Mean Squared Error (RMSE) adalah ukuran yang digunakan untuk menilai seberapa baik model memprediksi nilai target dengan mengukur rata-rata dari akar kuadrat perbedaan antara nilai prediksi model dan nilai aktual. RMSE memberikan gambaran tentang seberapa besar kesalahan prediksi model, tetapi dalam unit yang sama dengan nilai target, membuatnya lebih mudah diinterpretasikan dibandingkan dengan Mean Squared Error (MSE)."
   ]
  },
  {
   "cell_type": "markdown",
   "metadata": {},
   "source": [
    "Rumus dari RMSE:\n",
    "\n",
    "</b>\n",
    "<img src=\"https://editor.analyticsvidhya.com/uploads/56967RMSE.png\" alt=\"RMSE\" width=\"300\"/>\n"
   ]
  },
  {
   "cell_type": "code",
   "execution_count": 125,
   "metadata": {},
   "outputs": [
    {
     "data": {
      "text/plain": [
       "63.55380727976166"
      ]
     },
     "execution_count": 125,
     "metadata": {},
     "output_type": "execute_result"
    }
   ],
   "source": [
    "rmse = np.sqrt(np.mean(((y_test - y_pred)**2)))\n",
    "rmse"
   ]
  },
  {
   "cell_type": "markdown",
   "metadata": {},
   "source": [
    "Nilai Root Mean Squared Error (RMSE) yang dihitung adalah 63.55 rupiah. RMSE ini menunjukkan rata-rata kesalahan prediksi model dalam unit yang sama dengan nilai target. RMSE yang lebih rendah menunjukkan model yang lebih akurat, sedangkan RMSE yang lebih tinggi menunjukkan bahwa kesalahan prediksi model lebih besar."
   ]
  },
  {
   "cell_type": "markdown",
   "metadata": {},
   "source": [
    "- **MAE**"
   ]
  },
  {
   "cell_type": "markdown",
   "metadata": {},
   "source": [
    "Mean Absolute Error (MAE) adalah metrik yang digunakan untuk mengevaluasi seberapa baik model memprediksi nilai target dengan mengukur rata-rata selisih absolut antara nilai prediksi model dan nilai aktual. MAE memberikan gambaran tentang seberapa besar kesalahan prediksi model tanpa memperbesar perbedaan dengan kuadrat, sehingga lebih mudah diinterpretasikan dalam konteks yang sama dengan data target."
   ]
  },
  {
   "cell_type": "markdown",
   "metadata": {},
   "source": [
    "Rumus dari MAE:\n",
    "\n",
    "</b>\n",
    "<img src=\"https://editor.analyticsvidhya.com/uploads/42439Screenshot%202021-10-26%20at%209.34.08%20PM.png\" alt=\"MAE\" width=\"300\"/>\n"
   ]
  },
  {
   "cell_type": "code",
   "execution_count": 126,
   "metadata": {},
   "outputs": [
    {
     "data": {
      "text/plain": [
       "52.041152263374485"
      ]
     },
     "execution_count": 126,
     "metadata": {},
     "output_type": "execute_result"
    }
   ],
   "source": [
    "mae = mean_absolute_error(y_test, y_pred)\n",
    "mae"
   ]
  },
  {
   "cell_type": "markdown",
   "metadata": {},
   "source": [
    "Secara keseluruhan, MAE sebesar 52.04 menunjukkan bahwa model memiliki rata-rata kesalahan prediksi sekitar 52.04 rupiah. Ini adalah ukuran yang berguna untuk mengevaluasi akurasi model dengan cara yang mudah dipahami dan tidak terlalu dipengaruhi oleh kesalahan yang sangat besar."
   ]
  },
  {
   "cell_type": "markdown",
   "metadata": {},
   "source": [
    "- **MAPE**\n",
    "\n",
    " MAPE mengukur rata-rata dari selisih absolut antara nilai aktual dan nilai prediksi dalam bentuk persentase dari nilai aktual. Ini memungkinkan untuk menilai kesalahan dalam konteks relatif, yaitu seberapa besar kesalahan prediksi dibandingkan dengan nilai aktual."
   ]
  },
  {
   "cell_type": "markdown",
   "metadata": {},
   "source": [
    "Rumus MAPE:\n",
    "\n",
    "</b>\n",
    "<img src=\"https://1.bp.blogspot.com/-0995oy9kwNo/Xfh7nJ9tL_I/AAAAAAAABbY/yMXNlUJqzRw5fqWTyYZYGsk9SOpEIWMCwCLcBGAsYHQ/s1600/MAAAA.JPG\" alt=\"MAPE\" width=\"300\"/>\n"
   ]
  },
  {
   "cell_type": "code",
   "execution_count": 127,
   "metadata": {},
   "outputs": [
    {
     "data": {
      "text/plain": [
       "3.376271441593423"
      ]
     },
     "execution_count": 127,
     "metadata": {},
     "output_type": "execute_result"
    }
   ],
   "source": [
    "mape = (mean_absolute_percentage_error(y_test, y_pred)*100)\n",
    "mape"
   ]
  },
  {
   "cell_type": "markdown",
   "metadata": {},
   "source": [
    "Dengan MAPE sebesar 3.37%, ini berarti rata-rata kesalahan prediksi model adalah sekitar 3.37% dari nilai aktual. Nilai ini menunjukkan bahwa prediksi model memiliki rata-rata kesalahan yang relatif kecil jika dibandingkan dengan nilai aktual, dan model Anda cukup akurat dalam konteks persentase kesalahan."
   ]
  },
  {
   "cell_type": "markdown",
   "metadata": {},
   "source": [
    "#### Hasil Prediksi"
   ]
  },
  {
   "cell_type": "code",
   "execution_count": 128,
   "metadata": {},
   "outputs": [
    {
     "data": {
      "text/html": [
       "<div>\n",
       "<style scoped>\n",
       "    .dataframe tbody tr th:only-of-type {\n",
       "        vertical-align: middle;\n",
       "    }\n",
       "\n",
       "    .dataframe tbody tr th {\n",
       "        vertical-align: top;\n",
       "    }\n",
       "\n",
       "    .dataframe thead th {\n",
       "        text-align: right;\n",
       "    }\n",
       "</style>\n",
       "<table border=\"1\" class=\"dataframe\">\n",
       "  <thead>\n",
       "    <tr style=\"text-align: right;\">\n",
       "      <th></th>\n",
       "      <th>Date</th>\n",
       "      <th>Close</th>\n",
       "      <th>Prediction</th>\n",
       "    </tr>\n",
       "  </thead>\n",
       "  <tbody>\n",
       "    <tr>\n",
       "      <th>971</th>\n",
       "      <td>2023-08-29</td>\n",
       "      <td>1995.0</td>\n",
       "      <td>1993.0</td>\n",
       "    </tr>\n",
       "    <tr>\n",
       "      <th>972</th>\n",
       "      <td>2023-08-30</td>\n",
       "      <td>1995.0</td>\n",
       "      <td>2004.0</td>\n",
       "    </tr>\n",
       "    <tr>\n",
       "      <th>973</th>\n",
       "      <td>2023-08-31</td>\n",
       "      <td>1990.0</td>\n",
       "      <td>2012.0</td>\n",
       "    </tr>\n",
       "    <tr>\n",
       "      <th>974</th>\n",
       "      <td>2023-09-01</td>\n",
       "      <td>1955.0</td>\n",
       "      <td>2016.0</td>\n",
       "    </tr>\n",
       "    <tr>\n",
       "      <th>975</th>\n",
       "      <td>2023-09-04</td>\n",
       "      <td>1950.0</td>\n",
       "      <td>2011.0</td>\n",
       "    </tr>\n",
       "    <tr>\n",
       "      <th>...</th>\n",
       "      <td>...</td>\n",
       "      <td>...</td>\n",
       "      <td>...</td>\n",
       "    </tr>\n",
       "    <tr>\n",
       "      <th>1209</th>\n",
       "      <td>2024-08-28</td>\n",
       "      <td>1450.0</td>\n",
       "      <td>1520.0</td>\n",
       "    </tr>\n",
       "    <tr>\n",
       "      <th>1210</th>\n",
       "      <td>2024-08-29</td>\n",
       "      <td>1410.0</td>\n",
       "      <td>1515.0</td>\n",
       "    </tr>\n",
       "    <tr>\n",
       "      <th>1211</th>\n",
       "      <td>2024-08-30</td>\n",
       "      <td>1390.0</td>\n",
       "      <td>1499.0</td>\n",
       "    </tr>\n",
       "    <tr>\n",
       "      <th>1212</th>\n",
       "      <td>2024-09-02</td>\n",
       "      <td>1395.0</td>\n",
       "      <td>1477.0</td>\n",
       "    </tr>\n",
       "    <tr>\n",
       "      <th>1213</th>\n",
       "      <td>2024-09-03</td>\n",
       "      <td>1380.0</td>\n",
       "      <td>1456.0</td>\n",
       "    </tr>\n",
       "  </tbody>\n",
       "</table>\n",
       "<p>243 rows × 3 columns</p>\n",
       "</div>"
      ],
      "text/plain": [
       "           Date   Close  Prediction\n",
       "971  2023-08-29  1995.0      1993.0\n",
       "972  2023-08-30  1995.0      2004.0\n",
       "973  2023-08-31  1990.0      2012.0\n",
       "974  2023-09-01  1955.0      2016.0\n",
       "975  2023-09-04  1950.0      2011.0\n",
       "...         ...     ...         ...\n",
       "1209 2024-08-28  1450.0      1520.0\n",
       "1210 2024-08-29  1410.0      1515.0\n",
       "1211 2024-08-30  1390.0      1499.0\n",
       "1212 2024-09-02  1395.0      1477.0\n",
       "1213 2024-09-03  1380.0      1456.0\n",
       "\n",
       "[243 rows x 3 columns]"
      ]
     },
     "execution_count": 128,
     "metadata": {},
     "output_type": "execute_result"
    }
   ],
   "source": [
    "data_pred = data[-test_len:].copy()\n",
    "data_pred['Prediction'] = y_pred\n",
    "data_pred"
   ]
  },
  {
   "cell_type": "markdown",
   "metadata": {},
   "source": [
    "### Visualisasi Hasil Prediksi"
   ]
  },
  {
   "cell_type": "code",
   "execution_count": 129,
   "metadata": {},
   "outputs": [
    {
     "data": {
      "image/png": "[encoded data removed]",
      "text/plain": [
       "<Figure size 1600x500 with 1 Axes>"
      ]
     },
     "metadata": {},
     "output_type": "display_data"
    }
   ],
   "source": [
    "train = data[:train_len]\n",
    "valid = data[train_len:(train_len + val_len)]\n",
    "\n",
    "plt.figure(figsize=(16,5))\n",
    "plt.title('Prediksi Harga Saham ANTM')\n",
    "plt.plot(train['Date'], train['Close'], label='Training')\n",
    "plt.plot(valid['Date'], valid['Close'], label='Validation')\n",
    "plt.plot(data_pred['Date'], data_pred['Close'], label='Testing')\n",
    "plt.plot(data_pred['Date'], data_pred['Prediction'], label='Prediksi', linestyle='--')\n",
    "plt.xlabel('Tanggal')\n",
    "plt.ylabel('Harga Saham (Rp)')\n",
    "plt.legend()\n",
    "plt.grid(True, linewidth=0.18, axis='y')\n",
    "plt.show()"
   ]
  },
  {
   "cell_type": "markdown",
   "metadata": {},
   "source": [
    "Gambar tersebut menunjukkan prediksi harga saham ANTM menggunakan model yang dilatih dengan data yang dibagi menjadi tiga bagian: training, validation, dan testing. Data training (garis biru) meliputi 2019 hingga pertengahan 2022, validation (garis oranye) dari pertengahan 2022 hingga 2023, dan testing (garis hijau) dari 2023 hingga pertengahan 2024. Garis merah putus-putus menunjukkan prediksi model. Secara keseluruhan, model ini berhasil mengikuti tren harga saham dengan baik, terutama pada data testing, meskipun ada beberapa deviasi pada periode dengan volatilitas tinggi."
   ]
  },
  {
   "cell_type": "code",
   "execution_count": 130,
   "metadata": {},
   "outputs": [
    {
     "data": {
      "image/png": "[encoded data removed]",
      "text/plain": [
       "<Figure size 1600x500 with 1 Axes>"
      ]
     },
     "metadata": {},
     "output_type": "display_data"
    }
   ],
   "source": [
    "plt.figure(figsize=(16,5))\n",
    "plt.title('Prediksi Harga Saham ANTM')\n",
    "plt.plot(data_pred['Date'], data_pred['Close'], label='Aktual')\n",
    "plt.plot(data_pred['Date'], data_pred['Prediction'], label='Prediksi', color='red', linestyle='--')\n",
    "plt.xlabel('Tanggal')\n",
    "plt.ylabel('Harga Saham (Rp)')\n",
    "plt.legend()\n",
    "plt.grid(True, linewidth=0.18, axis='y')\n",
    "plt.show()"
   ]
  },
  {
   "cell_type": "markdown",
   "metadata": {},
   "source": [
    "Gambar diatas merupakan perbesaran (zoom-in) dari bagian data testing dan prediksi yang terdapat dalam gambar kedua. Pada gambar tersebut, fokusnya adalah pada perbandingan antara harga saham aktual dan hasil prediksi model LSTM untuk periode testing, yang mencakup tahun 2023 hingga 2024. Garis biru menunjukkan harga saham aktual, sementara garis merah putus-putus menunjukkan hasil prediksi model. Perbesaran ini memperlihatkan lebih detail bagaimana model prediksi mengikuti pergerakan harga saham pada periode testing, memberikan gambaran yang lebih jelas tentang kinerja model dalam memprediksi harga saham selama periode tersebut."
   ]
  },
  {
   "cell_type": "markdown",
   "metadata": {},
   "source": [
    "### Tantangan dan Pertimbangan Lanjutan"
   ]
  },
  {
   "cell_type": "markdown",
   "metadata": {},
   "source": [
    "Meskipun model LSTM menunjukkan hasil yang menjanjikan dalam memprediksi harga saham ANTM, ada beberapa tantangan dan pertimbangan yang perlu diperhatikan:\n",
    "\n",
    "- **Volatilitas Pasar:** Harga saham sangat dipengaruhi oleh banyak faktor eksternal seperti berita ekonomi, kebijakan pemerintah, dan kejadian tak terduga lainnya. Model LSTM, meskipun kuat dalam menangkap pola waktu yang ada, mungkin tidak selalu mampu memprediksi perubahan mendadak yang disebabkan oleh kejadian tak terduga.\n",
    "\n",
    "- **Ketergantungan pada Data Historis:** Model LSTM bergantung pada data historis untuk membuat prediksi. Jika terdapat perubahan mendasar dalam pasar atau dalam perusahaan yang tidak tercermin dalam data historis, model mungkin tidak mampu menyesuaikan prediksinya dengan kondisi baru ini.\n",
    "\n",
    "- **Data Eksternal:** Menambahkan fitur lain seperti sentimen pasar, data ekonomi makro, dan indikator teknis lainnya bisa meningkatkan akurasi model. Namun, ini juga meningkatkan kompleksitas model dan membutuhkan pra-pemrosesan data yang lebih intensif. Selain itu, integrasi data eksternal ini perlu dilakukan dengan hati-hati untuk menghindari kebisingan yang dapat mengurangi kinerja model.\n"
   ]
  },
  {
   "cell_type": "markdown",
   "metadata": {},
   "source": [
    "### Kesimpulan"
   ]
  },
  {
   "cell_type": "markdown",
   "metadata": {},
   "source": [
    "Prediksi harga saham menggunakan model LSTM menawarkan potensi yang besar dalam analisis keuangan. Dalam studi ini, model LSTM telah menunjukkan kinerjanya yang cukup baik dalam memprediksi harga saham ANTM, dengan kesalahan prediksi yang relatif rendah. Hasil ini menunjukkan bahwa model LSTM mampu menangkap pola-pola penting dalam data harga saham dan dapat digunakan sebagai alat bantu dalam pengambilan keputusan investasi.\n",
    "\n",
    "Namun, penting untuk diingat bahwa meskipun model ini menunjukkan hasil yang menjanjikan, prediksi harga saham selalu melibatkan tingkat ketidakpastian yang tinggi. Faktor-faktor eksternal yang tidak dapat diprediksi oleh model tetap memiliki peran besar dalam pergerakan harga saham. Oleh karena itu, hasil prediksi dari model ini sebaiknya digunakan sebagai salah satu alat dalam analisis investasi, bukan sebagai satu-satunya penentu keputusan.\n",
    "\n",
    "Di masa depan, peningkatan lebih lanjut dapat dilakukan dengan menggabungkan data eksternal, memperbarui model secara berkala dengan data terbaru, dan menerapkan teknik pemrosesan data yang lebih canggih. Dengan demikian, model LSTM dapat menjadi alat yang semakin kuat dan akurat dalam dunia investasi keuangan.\n"
   ]
  }
 ],
 "metadata": {
  "kernelspec": {
   "display_name": "Python 3",
   "language": "python",
   "name": "python3"
  },
  "language_info": {
   "codemirror_mode": {
    "name": "ipython",
    "version": 3
   },
   "file_extension": ".py",
   "mimetype": "text/x-python",
   "name": "python",
   "nbconvert_exporter": "python",
   "pygments_lexer": "ipython3",
   "version": "3.9.13"
  }
 },
 "nbformat": 4,
 "nbformat_minor": 2
}
